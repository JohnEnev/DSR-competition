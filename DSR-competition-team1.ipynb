{
 "cells": [
  {
   "cell_type": "markdown",
   "id": "recovered-tennessee",
   "metadata": {},
   "source": [
    "## DSR Mini-Competition \n",
    "### Rossman Sales Prediction\n",
    "#### Team 1: John Enevoldsen, Sara Ghasemi, Mena Nasr\n",
    "\n",
    "This is a notebook to reproduce the results that are submitted for the competition. Data understanding and exploration and visualisations are not included in this notebook."
   ]
  },
  {
   "cell_type": "code",
   "execution_count": 1,
   "id": "disabled-midwest",
   "metadata": {},
   "outputs": [],
   "source": [
    "import sys\n",
    "\n",
    "import numpy as np\n",
    "import pandas as pd\n",
    "import seaborn as sns\n",
    "import matplotlib.pyplot as plt\n",
    "%matplotlib inline\n",
    "\n",
    "import xgboost\n",
    "from sklearn.ensemble import RandomForestRegressor\n",
    "from sklearn import linear_model"
   ]
  },
  {
   "cell_type": "code",
   "execution_count": 2,
   "id": "cubic-fundamentals",
   "metadata": {},
   "outputs": [],
   "source": [
    "sys.path.insert(0, './modules/')\n",
    "import cleaning as cln\n",
    "import feature_eng as feng"
   ]
  },
  {
   "cell_type": "markdown",
   "id": "anonymous-public",
   "metadata": {},
   "source": [
    "## 1. Initial Data Preparation\n",
    "\n",
    "Read the files and make one data frame to be used for training and cross validation, and one to be used for the final test."
   ]
  },
  {
   "cell_type": "code",
   "execution_count": 3,
   "id": "proud-custom",
   "metadata": {},
   "outputs": [
    {
     "name": "stderr",
     "output_type": "stream",
     "text": [
      "/Users/sara/opt/anaconda3/lib/python3.7/site-packages/IPython/core/interactiveshell.py:3147: DtypeWarning: Columns (7) have mixed types.Specify dtype option on import or set low_memory=False.\n",
      "  interactivity=interactivity, compiler=compiler, result=result)\n"
     ]
    }
   ],
   "source": [
    "#Read the data from 'train', 'store' and 'holdout' files:\n",
    "\n",
    "full_df_train = pd.read_csv(\"./data/train.csv\")\n",
    "full_df_store = pd.read_csv(\"./data/store.csv\")\n",
    "full_df_holdout = pd.read_csv(\"./data/holdout.csv\")"
   ]
  },
  {
   "cell_type": "code",
   "execution_count": 4,
   "id": "responsible-design",
   "metadata": {},
   "outputs": [],
   "source": [
    "#Merge the 'train' and 'store' data frames, to be used for training and cross validation:\n",
    "\n",
    "full_df_train_cv = cln.merge(full_df_train, full_df_store)"
   ]
  },
  {
   "cell_type": "code",
   "execution_count": 5,
   "id": "excited-absence",
   "metadata": {},
   "outputs": [],
   "source": [
    "#Merge the 'holdout' and 'store' data frames, to be used for final test:\n",
    "\n",
    "full_df_test = cln.merge(full_df_holdout, full_df_store)"
   ]
  },
  {
   "cell_type": "markdown",
   "id": "front-investing",
   "metadata": {},
   "source": [
    "## 2. Data Cleaning"
   ]
  },
  {
   "cell_type": "code",
   "execution_count": 6,
   "id": "ordinary-monaco",
   "metadata": {},
   "outputs": [],
   "source": [
    "# Remove the Cusomers column, as was instructed to us for the competition\n",
    "\n",
    "df_train_cv = cln.drop_column(full_df_train_cv, column='Customers')\n",
    "\n",
    "df_test = cln.drop_column(full_df_test, column='Customers')"
   ]
  },
  {
   "cell_type": "code",
   "execution_count": 7,
   "id": "announced-creation",
   "metadata": {},
   "outputs": [],
   "source": [
    "# Target cleaning: Remove the zero and null values in targt ('Sales')\n",
    "\n",
    "df_train_cv = cln.clean_targets(df_train_cv, target='Sales')\n",
    "\n",
    "df_test = cln.clean_targets(df_test, target='Sales')"
   ]
  },
  {
   "cell_type": "code",
   "execution_count": 8,
   "id": "lesser-triple",
   "metadata": {},
   "outputs": [
    {
     "name": "stdout",
     "output_type": "stream",
     "text": [
      "Total number of rows before cleaning:  531983\n",
      "Total number of rows after cleaning:  425689\n",
      "Total number of rows before cleaning:  315540\n",
      "Total number of rows after cleaning:  314760\n"
     ]
    }
   ],
   "source": [
    "# Feature cleaning:\n",
    "# Remove the rows with null feature values if number of null values are very small.\n",
    "# Drop the whole feature column if number of null values are not small.\n",
    "# The threshold is 10%.\n",
    "# Transform the values in 'StateHoliday' column: transform 0.0 to 0 and all column to string.\n",
    "    \n",
    "df_train_cv = cln.rough_features_cleaning(df_train_cv, threshold=0.10, drop_columns=True, verbose=False)\n",
    "\n",
    "df_test = cln.rough_features_cleaning(df_test, threshold=0.10, drop_columns=True, verbose=False)"
   ]
  },
  {
   "cell_type": "code",
   "execution_count": 9,
   "id": "worse-october",
   "metadata": {},
   "outputs": [],
   "source": [
    "# Remove the Open column because at this point its values are always equal to 1\n",
    "\n",
    "df_train_cv = cln.drop_column(df_train_cv, column='Open')\n",
    "\n",
    "df_test = cln.drop_column(df_test, column='Open')"
   ]
  },
  {
   "cell_type": "markdown",
   "id": "toxic-compatibility",
   "metadata": {},
   "source": [
    "## 3. Feature Engineering\n",
    "\n",
    "Some feature engineering (namely mean encoding) are done after split of df_train_cv data set into training and cross validation sets, to avoid data leakage, but others (make new date features, one_hot_encoding, etc.) can be done before. \n",
    "\n",
    "The last 3 months of df_train_cv data set (i.e. from 2014-05-01 to 2014-07-31) are used as the cross validation set and the rest of it (i.e. from 2013-01-01 to 2014-04-30) for the training set."
   ]
  },
  {
   "cell_type": "code",
   "execution_count": 10,
   "id": "respective-channels",
   "metadata": {},
   "outputs": [],
   "source": [
    "# Make new date features, before split into training and cross validation sets\n",
    "\n",
    "df_train_cv = feng.dates_features(df_train_cv)\n",
    "\n",
    "df_test = feng.dates_features(df_test)"
   ]
  },
  {
   "cell_type": "code",
   "execution_count": 11,
   "id": "stainless-seller",
   "metadata": {},
   "outputs": [],
   "source": [
    "# Add one hot encoding of StateHoliday, StoreType, Assortment before split\n",
    "\n",
    "df_train_cv = feng.one_hot_encoding(df_train_cv, 'StateHoliday')\n",
    "df_train_cv = feng.one_hot_encoding(df_train_cv, 'StoreType')\n",
    "df_train_cv = feng.one_hot_encoding(df_train_cv, 'Assortment')\n",
    "\n",
    "\n",
    "df_test = feng.one_hot_encoding(df_test, 'StateHoliday')\n",
    "df_test = feng.one_hot_encoding(df_test, 'StoreType')\n",
    "df_test = feng.one_hot_encoding(df_test, 'Assortment')"
   ]
  },
  {
   "cell_type": "code",
   "execution_count": 12,
   "id": "effective-preservation",
   "metadata": {},
   "outputs": [],
   "source": [
    "# Split the df_train_cv data into training and cross validation sets\n",
    "\n",
    "df_train, df_cv = feng.date_split_train_test(df_train_cv, '2014-05-01')"
   ]
  },
  {
   "cell_type": "code",
   "execution_count": 13,
   "id": "mediterranean-notion",
   "metadata": {},
   "outputs": [],
   "source": [
    "# Add mean encoding for the Store id on Sales ** only for the train data **\n",
    "# Then map the same values from train set to the cross validation set and test set\n",
    "\n",
    "df_train, df_cv = feng.mean_encoding(df_train, df_cv, 'Store')\n",
    "\n",
    "df_train, df_test = feng.mean_encoding(df_train, df_test, 'Store')"
   ]
  },
  {
   "cell_type": "code",
   "execution_count": 19,
   "id": "national-attitude",
   "metadata": {
    "scrolled": true
   },
   "outputs": [
    {
     "data": {
      "text/html": [
       "<div>\n",
       "<style scoped>\n",
       "    .dataframe tbody tr th:only-of-type {\n",
       "        vertical-align: middle;\n",
       "    }\n",
       "\n",
       "    .dataframe tbody tr th {\n",
       "        vertical-align: top;\n",
       "    }\n",
       "\n",
       "    .dataframe thead th {\n",
       "        text-align: right;\n",
       "    }\n",
       "</style>\n",
       "<table border=\"1\" class=\"dataframe\">\n",
       "  <thead>\n",
       "    <tr style=\"text-align: right;\">\n",
       "      <th></th>\n",
       "      <th>Date</th>\n",
       "      <th>Store</th>\n",
       "      <th>Sales</th>\n",
       "      <th>Promo</th>\n",
       "      <th>SchoolHoliday</th>\n",
       "      <th>CompetitionDistance</th>\n",
       "      <th>Promo2</th>\n",
       "      <th>month</th>\n",
       "      <th>day_of_week</th>\n",
       "      <th>day_of_month</th>\n",
       "      <th>...</th>\n",
       "      <th>StateHoliday _b</th>\n",
       "      <th>StateHoliday _c</th>\n",
       "      <th>StoreType _a</th>\n",
       "      <th>StoreType _b</th>\n",
       "      <th>StoreType _c</th>\n",
       "      <th>StoreType _d</th>\n",
       "      <th>Assortment _a</th>\n",
       "      <th>Assortment _b</th>\n",
       "      <th>Assortment _c</th>\n",
       "      <th>Store_mean_encoded</th>\n",
       "    </tr>\n",
       "  </thead>\n",
       "  <tbody>\n",
       "    <tr>\n",
       "      <th>99</th>\n",
       "      <td>2014-08-01</td>\n",
       "      <td>353</td>\n",
       "      <td>5964</td>\n",
       "      <td>1</td>\n",
       "      <td>1</td>\n",
       "      <td>900.0</td>\n",
       "      <td>1</td>\n",
       "      <td>8</td>\n",
       "      <td>4</td>\n",
       "      <td>1</td>\n",
       "      <td>...</td>\n",
       "      <td>0</td>\n",
       "      <td>0</td>\n",
       "      <td>0</td>\n",
       "      <td>1</td>\n",
       "      <td>0</td>\n",
       "      <td>0</td>\n",
       "      <td>0</td>\n",
       "      <td>1</td>\n",
       "      <td>0</td>\n",
       "      <td>4975.040107</td>\n",
       "    </tr>\n",
       "  </tbody>\n",
       "</table>\n",
       "<p>1 rows × 24 columns</p>\n",
       "</div>"
      ],
      "text/plain": [
       "         Date  Store  Sales  Promo  SchoolHoliday  CompetitionDistance  \\\n",
       "99 2014-08-01    353   5964      1              1                900.0   \n",
       "\n",
       "    Promo2  month  day_of_week  day_of_month  ...  StateHoliday _b  \\\n",
       "99       1      8            4             1  ...                0   \n",
       "\n",
       "    StateHoliday _c  StoreType _a  StoreType _b  StoreType _c  StoreType _d  \\\n",
       "99                0             0             1             0             0   \n",
       "\n",
       "    Assortment _a  Assortment _b  Assortment _c  Store_mean_encoded  \n",
       "99              0              1              0         4975.040107  \n",
       "\n",
       "[1 rows x 24 columns]"
      ]
     },
     "execution_count": 19,
     "metadata": {},
     "output_type": "execute_result"
    }
   ],
   "source": [
    "# Checking Store_mean_encoded:\n",
    "\n",
    "df_train.loc[df_train.loc[:, 'Store'] == 353.0].head(1)"
   ]
  },
  {
   "cell_type": "code",
   "execution_count": 18,
   "id": "primary-apache",
   "metadata": {},
   "outputs": [
    {
     "data": {
      "text/html": [
       "<div>\n",
       "<style scoped>\n",
       "    .dataframe tbody tr th:only-of-type {\n",
       "        vertical-align: middle;\n",
       "    }\n",
       "\n",
       "    .dataframe tbody tr th {\n",
       "        vertical-align: top;\n",
       "    }\n",
       "\n",
       "    .dataframe thead th {\n",
       "        text-align: right;\n",
       "    }\n",
       "</style>\n",
       "<table border=\"1\" class=\"dataframe\">\n",
       "  <thead>\n",
       "    <tr style=\"text-align: right;\">\n",
       "      <th></th>\n",
       "      <th>Date</th>\n",
       "      <th>Store</th>\n",
       "      <th>Sales</th>\n",
       "      <th>Promo</th>\n",
       "      <th>SchoolHoliday</th>\n",
       "      <th>CompetitionDistance</th>\n",
       "      <th>Promo2</th>\n",
       "      <th>month</th>\n",
       "      <th>day_of_week</th>\n",
       "      <th>day_of_month</th>\n",
       "      <th>...</th>\n",
       "      <th>StateHoliday _b</th>\n",
       "      <th>StateHoliday _c</th>\n",
       "      <th>StoreType _a</th>\n",
       "      <th>StoreType _b</th>\n",
       "      <th>StoreType _c</th>\n",
       "      <th>StoreType _d</th>\n",
       "      <th>Assortment _a</th>\n",
       "      <th>Assortment _b</th>\n",
       "      <th>Assortment _c</th>\n",
       "      <th>Store_mean_encoded</th>\n",
       "    </tr>\n",
       "  </thead>\n",
       "  <tbody>\n",
       "    <tr>\n",
       "      <th>541916</th>\n",
       "      <td>2014-05-02</td>\n",
       "      <td>353.0</td>\n",
       "      <td>5828.0</td>\n",
       "      <td>1.0</td>\n",
       "      <td>0.0</td>\n",
       "      <td>900.0</td>\n",
       "      <td>1.0</td>\n",
       "      <td>5</td>\n",
       "      <td>4</td>\n",
       "      <td>2</td>\n",
       "      <td>...</td>\n",
       "      <td>0</td>\n",
       "      <td>0</td>\n",
       "      <td>0</td>\n",
       "      <td>1</td>\n",
       "      <td>0</td>\n",
       "      <td>0</td>\n",
       "      <td>0</td>\n",
       "      <td>1</td>\n",
       "      <td>0</td>\n",
       "      <td>4975.040107</td>\n",
       "    </tr>\n",
       "  </tbody>\n",
       "</table>\n",
       "<p>1 rows × 24 columns</p>\n",
       "</div>"
      ],
      "text/plain": [
       "             Date  Store   Sales  Promo  SchoolHoliday  CompetitionDistance  \\\n",
       "541916 2014-05-02  353.0  5828.0    1.0            0.0                900.0   \n",
       "\n",
       "        Promo2  month  day_of_week  day_of_month  ...  StateHoliday _b  \\\n",
       "541916     1.0      5            4             2  ...                0   \n",
       "\n",
       "        StateHoliday _c  StoreType _a  StoreType _b  StoreType _c  \\\n",
       "541916                0             0             1             0   \n",
       "\n",
       "        StoreType _d  Assortment _a  Assortment _b  Assortment _c  \\\n",
       "541916             0              0              1              0   \n",
       "\n",
       "        Store_mean_encoded  \n",
       "541916         4975.040107  \n",
       "\n",
       "[1 rows x 24 columns]"
      ]
     },
     "execution_count": 18,
     "metadata": {},
     "output_type": "execute_result"
    }
   ],
   "source": [
    "# Checking Store_mean_encoded:\n",
    "\n",
    "df_cv.loc[df_cv.loc[:, 'Store'] == 353.0].head(1)"
   ]
  },
  {
   "cell_type": "code",
   "execution_count": 14,
   "id": "rental-personality",
   "metadata": {},
   "outputs": [
    {
     "data": {
      "text/html": [
       "<div>\n",
       "<style scoped>\n",
       "    .dataframe tbody tr th:only-of-type {\n",
       "        vertical-align: middle;\n",
       "    }\n",
       "\n",
       "    .dataframe tbody tr th {\n",
       "        vertical-align: top;\n",
       "    }\n",
       "\n",
       "    .dataframe thead th {\n",
       "        text-align: right;\n",
       "    }\n",
       "</style>\n",
       "<table border=\"1\" class=\"dataframe\">\n",
       "  <thead>\n",
       "    <tr style=\"text-align: right;\">\n",
       "      <th></th>\n",
       "      <th>Date</th>\n",
       "      <th>Store</th>\n",
       "      <th>Sales</th>\n",
       "      <th>Promo</th>\n",
       "      <th>SchoolHoliday</th>\n",
       "      <th>CompetitionDistance</th>\n",
       "      <th>Promo2</th>\n",
       "      <th>month</th>\n",
       "      <th>day_of_week</th>\n",
       "      <th>day_of_month</th>\n",
       "      <th>...</th>\n",
       "      <th>StateHoliday _b</th>\n",
       "      <th>StateHoliday _c</th>\n",
       "      <th>StoreType _a</th>\n",
       "      <th>StoreType _b</th>\n",
       "      <th>StoreType _c</th>\n",
       "      <th>StoreType _d</th>\n",
       "      <th>Assortment _a</th>\n",
       "      <th>Assortment _b</th>\n",
       "      <th>Assortment _c</th>\n",
       "      <th>Store_mean_encoded</th>\n",
       "    </tr>\n",
       "  </thead>\n",
       "  <tbody>\n",
       "    <tr>\n",
       "      <th>99</th>\n",
       "      <td>2014-08-01</td>\n",
       "      <td>353</td>\n",
       "      <td>5964</td>\n",
       "      <td>1</td>\n",
       "      <td>1</td>\n",
       "      <td>900.0</td>\n",
       "      <td>1</td>\n",
       "      <td>8</td>\n",
       "      <td>4</td>\n",
       "      <td>1</td>\n",
       "      <td>...</td>\n",
       "      <td>0</td>\n",
       "      <td>0</td>\n",
       "      <td>0</td>\n",
       "      <td>1</td>\n",
       "      <td>0</td>\n",
       "      <td>0</td>\n",
       "      <td>0</td>\n",
       "      <td>1</td>\n",
       "      <td>0</td>\n",
       "      <td>4975.040107</td>\n",
       "    </tr>\n",
       "  </tbody>\n",
       "</table>\n",
       "<p>1 rows × 24 columns</p>\n",
       "</div>"
      ],
      "text/plain": [
       "         Date  Store  Sales  Promo  SchoolHoliday  CompetitionDistance  \\\n",
       "99 2014-08-01    353   5964      1              1                900.0   \n",
       "\n",
       "    Promo2  month  day_of_week  day_of_month  ...  StateHoliday _b  \\\n",
       "99       1      8            4             1  ...                0   \n",
       "\n",
       "    StateHoliday _c  StoreType _a  StoreType _b  StoreType _c  StoreType _d  \\\n",
       "99                0             0             1             0             0   \n",
       "\n",
       "    Assortment _a  Assortment _b  Assortment _c  Store_mean_encoded  \n",
       "99              0              1              0         4975.040107  \n",
       "\n",
       "[1 rows x 24 columns]"
      ]
     },
     "execution_count": 14,
     "metadata": {},
     "output_type": "execute_result"
    }
   ],
   "source": [
    "# Checking Store_mean_encoded:\n",
    "\n",
    "df_test.loc[df_test.loc[:, 'Store'] == 353.0].head(1)"
   ]
  },
  {
   "cell_type": "code",
   "execution_count": 21,
   "id": "tender-triangle",
   "metadata": {},
   "outputs": [],
   "source": [
    "# Remove Store columns from data sets as it is mean-encoded now\n",
    "\n",
    "df_train = cln.drop_column(df_train, column='Store')\n",
    "\n",
    "df_cv = cln.drop_column(df_cv, column='Store')\n",
    "\n",
    "df_test = cln.drop_column(df_test, column='Store')"
   ]
  },
  {
   "cell_type": "markdown",
   "id": "important-desert",
   "metadata": {},
   "source": [
    "## 4. Modeling\n",
    "\n"
   ]
  },
  {
   "cell_type": "markdown",
   "id": "quiet-purchase",
   "metadata": {},
   "source": [
    "Models are evaluated on the **root mean square percentage error (RMSPE)**"
   ]
  },
  {
   "cell_type": "code",
   "execution_count": 22,
   "id": "stylish-cyprus",
   "metadata": {},
   "outputs": [],
   "source": [
    "def metric(preds, actuals):\n",
    "    preds = preds.reshape(-1)\n",
    "    actuals = actuals.reshape(-1)\n",
    "    assert preds.shape == actuals.shape\n",
    "    return 100 * np.linalg.norm((actuals - preds) / actuals) / np.sqrt(preds.shape[0])"
   ]
  },
  {
   "cell_type": "code",
   "execution_count": 23,
   "id": "impressive-peninsula",
   "metadata": {},
   "outputs": [],
   "source": [
    "# Actual or True value used in the metric in validation process: Sales from cross validation set\n",
    "\n",
    "actuals_cv = df_cv .Sales.to_numpy()"
   ]
  },
  {
   "cell_type": "code",
   "execution_count": 44,
   "id": "national-theology",
   "metadata": {},
   "outputs": [],
   "source": [
    "# Features and targets used for modelling and validatoin:\n",
    "\n",
    "X_train = df_train.drop(['Date','Sales'], axis=1)\n",
    "y_train = df_train.loc[:, 'Sales']\n",
    "\n",
    "X_cv = df_cv.drop(['Date','Sales'], axis=1)\n",
    "y_cv = df_cv.loc[:, 'Sales']\n",
    "\n",
    "X_test = df_test.drop(['Date','Sales'], axis=1)\n",
    "y_test = df_test.loc[:, 'Sales']"
   ]
  },
  {
   "cell_type": "markdown",
   "id": "designed-encoding",
   "metadata": {},
   "source": [
    "### 4.1. Baseline"
   ]
  },
  {
   "cell_type": "markdown",
   "id": "hungry-contract",
   "metadata": {},
   "source": [
    "#### Simple mean"
   ]
  },
  {
   "cell_type": "code",
   "execution_count": 25,
   "id": "resident-emission",
   "metadata": {},
   "outputs": [
    {
     "name": "stdout",
     "output_type": "stream",
     "text": [
      "Baseline Model RMSPE = 31.68%\n"
     ]
    }
   ],
   "source": [
    "# Baseline Prediction: Mean Sales of the store, taken from train set \n",
    "# (don't get confuse by seeing df_cv name! They values are mapped from train set.)\n",
    "\n",
    "preds_baseline = df_cv.Store_mean_encoded.to_numpy()\n",
    "\n",
    "print(f'Baseline Model RMSPE = {metric(preds_baseline, actuals_cv):.2f}%')"
   ]
  },
  {
   "cell_type": "markdown",
   "id": "limited-grill",
   "metadata": {},
   "source": [
    "### 4.2. Multivariate Linear Regression"
   ]
  },
  {
   "cell_type": "code",
   "execution_count": 26,
   "id": "regulated-watch",
   "metadata": {},
   "outputs": [],
   "source": [
    "# Linear Regression model initialisation\n",
    "\n",
    "model_regr = linear_model.LinearRegression()"
   ]
  },
  {
   "cell_type": "code",
   "execution_count": 27,
   "id": "nominated-picnic",
   "metadata": {},
   "outputs": [],
   "source": [
    "# Fit and predict\n",
    "\n",
    "model_regr.fit(X_train, y_train)\n",
    "preds_regr = model_regr.predict(X_cv)"
   ]
  },
  {
   "cell_type": "code",
   "execution_count": 28,
   "id": "talented-instruction",
   "metadata": {},
   "outputs": [
    {
     "name": "stdout",
     "output_type": "stream",
     "text": [
      "Linear Regression Model RMSPE = 23.16%\n"
     ]
    }
   ],
   "source": [
    "# Evaluate\n",
    "\n",
    "print(f'Linear Regression Model RMSPE = {metric(preds_regr, actuals_cv):.2f}%')"
   ]
  },
  {
   "cell_type": "markdown",
   "id": "laden-object",
   "metadata": {},
   "source": [
    "### 4.3. Random Forest"
   ]
  },
  {
   "cell_type": "code",
   "execution_count": 29,
   "id": "infectious-longer",
   "metadata": {},
   "outputs": [],
   "source": [
    "# Random forest model initialisation\n",
    "\n",
    "model_rf = RandomForestRegressor(n_estimators=100, max_depth=5)"
   ]
  },
  {
   "cell_type": "code",
   "execution_count": 30,
   "id": "departmental-oriental",
   "metadata": {},
   "outputs": [],
   "source": [
    "# Fit and predict\n",
    "\n",
    "model_rf.fit(X_train, y_train)\n",
    "preds_rf = model_rf.predict(X_cv)"
   ]
  },
  {
   "cell_type": "code",
   "execution_count": 31,
   "id": "hairy-asbestos",
   "metadata": {},
   "outputs": [
    {
     "name": "stdout",
     "output_type": "stream",
     "text": [
      "Random Forest Model RMSPE = 22.55%\n"
     ]
    }
   ],
   "source": [
    "# Evaluate\n",
    "\n",
    "print(f'Random Forest Model RMSPE = {metric(preds_rf, actuals_cv):.2f}%')"
   ]
  },
  {
   "cell_type": "markdown",
   "id": "developing-virtue",
   "metadata": {},
   "source": [
    "### 4.3. XGBoost tree"
   ]
  },
  {
   "cell_type": "code",
   "execution_count": 32,
   "id": "large-franchise",
   "metadata": {},
   "outputs": [],
   "source": [
    "# XGBoost model initialisation\n",
    "\n",
    "model_xgb = xgboost.XGBRegressor()"
   ]
  },
  {
   "cell_type": "code",
   "execution_count": 33,
   "id": "conceptual-negotiation",
   "metadata": {},
   "outputs": [
    {
     "name": "stdout",
     "output_type": "stream",
     "text": [
      "[13:33:53] WARNING: src/objective/regression_obj.cu:152: reg:linear is now deprecated in favor of reg:squarederror.\n"
     ]
    }
   ],
   "source": [
    "# Fit and predict\n",
    "\n",
    "model_xgb.fit(X_train, y_train)\n",
    "preds_xgb = model_xgb.predict(X_cv)"
   ]
  },
  {
   "cell_type": "code",
   "execution_count": 34,
   "id": "baking-girlfriend",
   "metadata": {},
   "outputs": [
    {
     "name": "stdout",
     "output_type": "stream",
     "text": [
      "XGBoost Model RMSPE = 20.52%\n"
     ]
    }
   ],
   "source": [
    "# Evaluate\n",
    "\n",
    "print(f'XGBoost Model RMSPE = {metric(preds_xgb, actuals_cv):.2f}%')"
   ]
  },
  {
   "cell_type": "markdown",
   "id": "likely-loading",
   "metadata": {},
   "source": [
    "## 5. Testing on the unseen data\n",
    "\n",
    "The test set (a.k.a. holdout set) gone through the same cleaning and encoding process and our best model (XGBoost) is tested on it."
   ]
  },
  {
   "cell_type": "code",
   "execution_count": 41,
   "id": "sticky-possibility",
   "metadata": {},
   "outputs": [],
   "source": [
    "# Actual or True value used in the metric for final test: Sales from unseen test set\n",
    "\n",
    "actuals_test = df_test.Sales.to_numpy()"
   ]
  },
  {
   "cell_type": "code",
   "execution_count": 45,
   "id": "forty-initial",
   "metadata": {},
   "outputs": [],
   "source": [
    "# Prediction from our best model for the unseen test set:\n",
    "\n",
    "preds_test = model_xgb.predict(X_test)"
   ]
  },
  {
   "cell_type": "code",
   "execution_count": 46,
   "id": "under-container",
   "metadata": {
    "scrolled": true
   },
   "outputs": [
    {
     "name": "stdout",
     "output_type": "stream",
     "text": [
      "Final test RMSPE = 31.99%\n"
     ]
    }
   ],
   "source": [
    "print(f'Final test RMSPE = {metric(preds_test, actuals_test):.2f}%')"
   ]
  },
  {
   "cell_type": "code",
   "execution_count": null,
   "id": "accompanied-emphasis",
   "metadata": {},
   "outputs": [],
   "source": []
  }
 ],
 "metadata": {
  "kernelspec": {
   "display_name": "Python 3",
   "language": "python",
   "name": "python3"
  },
  "language_info": {
   "codemirror_mode": {
    "name": "ipython",
    "version": 3
   },
   "file_extension": ".py",
   "mimetype": "text/x-python",
   "name": "python",
   "nbconvert_exporter": "python",
   "pygments_lexer": "ipython3",
   "version": "3.7.6"
  }
 },
 "nbformat": 4,
 "nbformat_minor": 5
}
