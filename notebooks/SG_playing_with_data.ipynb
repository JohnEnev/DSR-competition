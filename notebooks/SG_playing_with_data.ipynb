{
 "cells": [
  {
   "cell_type": "code",
   "execution_count": 1,
   "id": "herbal-drink",
   "metadata": {},
   "outputs": [],
   "source": [
    "import numpy as np\n",
    "import pandas as pd\n",
    "\n",
    "import matplotlib.pyplot as plt\n",
    "%matplotlib inline\n",
    "\n",
    "import seaborn as sns"
   ]
  },
  {
   "cell_type": "code",
   "execution_count": 2,
   "id": "healthy-material",
   "metadata": {},
   "outputs": [
    {
     "name": "stderr",
     "output_type": "stream",
     "text": [
      "/Users/sara/opt/anaconda3/lib/python3.7/site-packages/IPython/core/interactiveshell.py:3147: DtypeWarning: Columns (7) have mixed types.Specify dtype option on import or set low_memory=False.\n",
      "  interactivity=interactivity, compiler=compiler, result=result)\n"
     ]
    }
   ],
   "source": [
    "#Read the train data\n",
    "rosman_train_data = pd.read_csv(\"../data/train.csv\")"
   ]
  },
  {
   "cell_type": "code",
   "execution_count": 3,
   "id": "speaking-tokyo",
   "metadata": {},
   "outputs": [
    {
     "data": {
      "text/html": [
       "<div>\n",
       "<style scoped>\n",
       "    .dataframe tbody tr th:only-of-type {\n",
       "        vertical-align: middle;\n",
       "    }\n",
       "\n",
       "    .dataframe tbody tr th {\n",
       "        vertical-align: top;\n",
       "    }\n",
       "\n",
       "    .dataframe thead th {\n",
       "        text-align: right;\n",
       "    }\n",
       "</style>\n",
       "<table border=\"1\" class=\"dataframe\">\n",
       "  <thead>\n",
       "    <tr style=\"text-align: right;\">\n",
       "      <th></th>\n",
       "      <th>Date</th>\n",
       "      <th>Store</th>\n",
       "      <th>DayOfWeek</th>\n",
       "      <th>Sales</th>\n",
       "      <th>Customers</th>\n",
       "      <th>Open</th>\n",
       "      <th>Promo</th>\n",
       "      <th>StateHoliday</th>\n",
       "      <th>SchoolHoliday</th>\n",
       "    </tr>\n",
       "  </thead>\n",
       "  <tbody>\n",
       "    <tr>\n",
       "      <th>0</th>\n",
       "      <td>2013-01-01</td>\n",
       "      <td>1115.0</td>\n",
       "      <td>2.0</td>\n",
       "      <td>0.0</td>\n",
       "      <td>0.0</td>\n",
       "      <td>0.0</td>\n",
       "      <td>0.0</td>\n",
       "      <td>a</td>\n",
       "      <td>1.0</td>\n",
       "    </tr>\n",
       "    <tr>\n",
       "      <th>1</th>\n",
       "      <td>2013-01-01</td>\n",
       "      <td>379.0</td>\n",
       "      <td>2.0</td>\n",
       "      <td>0.0</td>\n",
       "      <td>0.0</td>\n",
       "      <td>0.0</td>\n",
       "      <td>0.0</td>\n",
       "      <td>a</td>\n",
       "      <td>1.0</td>\n",
       "    </tr>\n",
       "    <tr>\n",
       "      <th>2</th>\n",
       "      <td>2013-01-01</td>\n",
       "      <td>378.0</td>\n",
       "      <td>2.0</td>\n",
       "      <td>0.0</td>\n",
       "      <td>0.0</td>\n",
       "      <td>0.0</td>\n",
       "      <td>0.0</td>\n",
       "      <td>a</td>\n",
       "      <td>1.0</td>\n",
       "    </tr>\n",
       "  </tbody>\n",
       "</table>\n",
       "</div>"
      ],
      "text/plain": [
       "         Date   Store  DayOfWeek  Sales  Customers  Open  Promo StateHoliday  \\\n",
       "0  2013-01-01  1115.0        2.0    0.0        0.0   0.0    0.0            a   \n",
       "1  2013-01-01   379.0        2.0    0.0        0.0   0.0    0.0            a   \n",
       "2  2013-01-01   378.0        2.0    0.0        0.0   0.0    0.0            a   \n",
       "\n",
       "   SchoolHoliday  \n",
       "0            1.0  \n",
       "1            1.0  \n",
       "2            1.0  "
      ]
     },
     "execution_count": 3,
     "metadata": {},
     "output_type": "execute_result"
    }
   ],
   "source": [
    "rosman_train_data.head(3)"
   ]
  },
  {
   "cell_type": "code",
   "execution_count": 4,
   "id": "indie-christianity",
   "metadata": {},
   "outputs": [
    {
     "data": {
      "text/html": [
       "<div>\n",
       "<style scoped>\n",
       "    .dataframe tbody tr th:only-of-type {\n",
       "        vertical-align: middle;\n",
       "    }\n",
       "\n",
       "    .dataframe tbody tr th {\n",
       "        vertical-align: top;\n",
       "    }\n",
       "\n",
       "    .dataframe thead th {\n",
       "        text-align: right;\n",
       "    }\n",
       "</style>\n",
       "<table border=\"1\" class=\"dataframe\">\n",
       "  <thead>\n",
       "    <tr style=\"text-align: right;\">\n",
       "      <th></th>\n",
       "      <th>Date</th>\n",
       "      <th>Store</th>\n",
       "      <th>DayOfWeek</th>\n",
       "      <th>Sales</th>\n",
       "      <th>Customers</th>\n",
       "      <th>Open</th>\n",
       "      <th>Promo</th>\n",
       "      <th>StateHoliday</th>\n",
       "      <th>SchoolHoliday</th>\n",
       "    </tr>\n",
       "  </thead>\n",
       "  <tbody>\n",
       "    <tr>\n",
       "      <th>637771</th>\n",
       "      <td>2014-07-31</td>\n",
       "      <td>754.0</td>\n",
       "      <td>4.0</td>\n",
       "      <td>10564.0</td>\n",
       "      <td>1162.0</td>\n",
       "      <td>1.0</td>\n",
       "      <td>1.0</td>\n",
       "      <td>0</td>\n",
       "      <td>NaN</td>\n",
       "    </tr>\n",
       "    <tr>\n",
       "      <th>637772</th>\n",
       "      <td>2014-07-31</td>\n",
       "      <td>755.0</td>\n",
       "      <td>4.0</td>\n",
       "      <td>12302.0</td>\n",
       "      <td>1020.0</td>\n",
       "      <td>1.0</td>\n",
       "      <td>1.0</td>\n",
       "      <td>0</td>\n",
       "      <td>1.0</td>\n",
       "    </tr>\n",
       "    <tr>\n",
       "      <th>637773</th>\n",
       "      <td>2014-07-31</td>\n",
       "      <td>751.0</td>\n",
       "      <td>4.0</td>\n",
       "      <td>3913.0</td>\n",
       "      <td>539.0</td>\n",
       "      <td>1.0</td>\n",
       "      <td>1.0</td>\n",
       "      <td>0</td>\n",
       "      <td>1.0</td>\n",
       "    </tr>\n",
       "  </tbody>\n",
       "</table>\n",
       "</div>"
      ],
      "text/plain": [
       "              Date  Store  DayOfWeek    Sales  Customers  Open  Promo  \\\n",
       "637771  2014-07-31  754.0        4.0  10564.0     1162.0   1.0    1.0   \n",
       "637772  2014-07-31  755.0        4.0  12302.0     1020.0   1.0    1.0   \n",
       "637773  2014-07-31  751.0        4.0   3913.0      539.0   1.0    1.0   \n",
       "\n",
       "       StateHoliday  SchoolHoliday  \n",
       "637771            0            NaN  \n",
       "637772            0            1.0  \n",
       "637773            0            1.0  "
      ]
     },
     "execution_count": 4,
     "metadata": {},
     "output_type": "execute_result"
    }
   ],
   "source": [
    "rosman_train_data.tail(3)"
   ]
  },
  {
   "cell_type": "code",
   "execution_count": 5,
   "id": "popular-deviation",
   "metadata": {},
   "outputs": [],
   "source": [
    "#Read the store data\n",
    "rosman_store_data = pd.read_csv(\"../data/store.csv\")"
   ]
  },
  {
   "cell_type": "code",
   "execution_count": 6,
   "id": "vulnerable-contract",
   "metadata": {},
   "outputs": [
    {
     "data": {
      "text/html": [
       "<div>\n",
       "<style scoped>\n",
       "    .dataframe tbody tr th:only-of-type {\n",
       "        vertical-align: middle;\n",
       "    }\n",
       "\n",
       "    .dataframe tbody tr th {\n",
       "        vertical-align: top;\n",
       "    }\n",
       "\n",
       "    .dataframe thead th {\n",
       "        text-align: right;\n",
       "    }\n",
       "</style>\n",
       "<table border=\"1\" class=\"dataframe\">\n",
       "  <thead>\n",
       "    <tr style=\"text-align: right;\">\n",
       "      <th></th>\n",
       "      <th>Store</th>\n",
       "      <th>StoreType</th>\n",
       "      <th>Assortment</th>\n",
       "      <th>CompetitionDistance</th>\n",
       "      <th>CompetitionOpenSinceMonth</th>\n",
       "      <th>CompetitionOpenSinceYear</th>\n",
       "      <th>Promo2</th>\n",
       "      <th>Promo2SinceWeek</th>\n",
       "      <th>Promo2SinceYear</th>\n",
       "      <th>PromoInterval</th>\n",
       "    </tr>\n",
       "  </thead>\n",
       "  <tbody>\n",
       "    <tr>\n",
       "      <th>0</th>\n",
       "      <td>1</td>\n",
       "      <td>c</td>\n",
       "      <td>a</td>\n",
       "      <td>1270.0</td>\n",
       "      <td>9.0</td>\n",
       "      <td>2008.0</td>\n",
       "      <td>0</td>\n",
       "      <td>NaN</td>\n",
       "      <td>NaN</td>\n",
       "      <td>NaN</td>\n",
       "    </tr>\n",
       "    <tr>\n",
       "      <th>1</th>\n",
       "      <td>2</td>\n",
       "      <td>a</td>\n",
       "      <td>a</td>\n",
       "      <td>570.0</td>\n",
       "      <td>11.0</td>\n",
       "      <td>2007.0</td>\n",
       "      <td>1</td>\n",
       "      <td>13.0</td>\n",
       "      <td>2010.0</td>\n",
       "      <td>Jan,Apr,Jul,Oct</td>\n",
       "    </tr>\n",
       "    <tr>\n",
       "      <th>2</th>\n",
       "      <td>3</td>\n",
       "      <td>a</td>\n",
       "      <td>a</td>\n",
       "      <td>14130.0</td>\n",
       "      <td>12.0</td>\n",
       "      <td>2006.0</td>\n",
       "      <td>1</td>\n",
       "      <td>14.0</td>\n",
       "      <td>2011.0</td>\n",
       "      <td>Jan,Apr,Jul,Oct</td>\n",
       "    </tr>\n",
       "  </tbody>\n",
       "</table>\n",
       "</div>"
      ],
      "text/plain": [
       "   Store StoreType Assortment  CompetitionDistance  CompetitionOpenSinceMonth  \\\n",
       "0      1         c          a               1270.0                        9.0   \n",
       "1      2         a          a                570.0                       11.0   \n",
       "2      3         a          a              14130.0                       12.0   \n",
       "\n",
       "   CompetitionOpenSinceYear  Promo2  Promo2SinceWeek  Promo2SinceYear  \\\n",
       "0                    2008.0       0              NaN              NaN   \n",
       "1                    2007.0       1             13.0           2010.0   \n",
       "2                    2006.0       1             14.0           2011.0   \n",
       "\n",
       "     PromoInterval  \n",
       "0              NaN  \n",
       "1  Jan,Apr,Jul,Oct  \n",
       "2  Jan,Apr,Jul,Oct  "
      ]
     },
     "execution_count": 6,
     "metadata": {},
     "output_type": "execute_result"
    }
   ],
   "source": [
    "rosman_store_data.head(3)"
   ]
  },
  {
   "cell_type": "code",
   "execution_count": 7,
   "id": "constitutional-phenomenon",
   "metadata": {},
   "outputs": [
    {
     "data": {
      "text/plain": [
       "Index(['Date', 'Store', 'DayOfWeek', 'Sales', 'Customers', 'Open', 'Promo',\n",
       "       'StateHoliday', 'SchoolHoliday'],\n",
       "      dtype='object')"
      ]
     },
     "execution_count": 7,
     "metadata": {},
     "output_type": "execute_result"
    }
   ],
   "source": [
    "rosman_train_data.columns"
   ]
  },
  {
   "cell_type": "code",
   "execution_count": 8,
   "id": "casual-federal",
   "metadata": {},
   "outputs": [
    {
     "data": {
      "text/plain": [
       "Index(['Store', 'StoreType', 'Assortment', 'CompetitionDistance',\n",
       "       'CompetitionOpenSinceMonth', 'CompetitionOpenSinceYear', 'Promo2',\n",
       "       'Promo2SinceWeek', 'Promo2SinceYear', 'PromoInterval'],\n",
       "      dtype='object')"
      ]
     },
     "execution_count": 8,
     "metadata": {},
     "output_type": "execute_result"
    }
   ],
   "source": [
    "rosman_store_data.columns"
   ]
  },
  {
   "cell_type": "code",
   "execution_count": 9,
   "id": "numerical-things",
   "metadata": {},
   "outputs": [
    {
     "data": {
      "text/plain": [
       "True"
      ]
     },
     "execution_count": 9,
     "metadata": {},
     "output_type": "execute_result"
    }
   ],
   "source": [
    "#Check if there are nulls in train data\n",
    "rosman_train_data.isnull().any().any()"
   ]
  },
  {
   "cell_type": "code",
   "execution_count": 10,
   "id": "turkish-relief",
   "metadata": {},
   "outputs": [
    {
     "data": {
      "text/plain": [
       "True"
      ]
     },
     "execution_count": 10,
     "metadata": {},
     "output_type": "execute_result"
    }
   ],
   "source": [
    "#Check if there are nulls in store data\n",
    "rosman_store_data.isnull().any().any()"
   ]
  },
  {
   "cell_type": "code",
   "execution_count": 11,
   "id": "subjective-priest",
   "metadata": {},
   "outputs": [
    {
     "data": {
      "text/plain": [
       "Date             False\n",
       "Store             True\n",
       "DayOfWeek         True\n",
       "Sales             True\n",
       "Customers         True\n",
       "Open              True\n",
       "Promo             True\n",
       "StateHoliday      True\n",
       "SchoolHoliday     True\n",
       "dtype: bool"
      ]
     },
     "execution_count": 11,
     "metadata": {},
     "output_type": "execute_result"
    }
   ],
   "source": [
    "#Check which columns of train data have null values\n",
    "rosman_train_data.isnull().any()"
   ]
  },
  {
   "cell_type": "code",
   "execution_count": 12,
   "id": "inner-practice",
   "metadata": {},
   "outputs": [
    {
     "data": {
      "text/plain": [
       "Store                        False\n",
       "StoreType                    False\n",
       "Assortment                   False\n",
       "CompetitionDistance           True\n",
       "CompetitionOpenSinceMonth     True\n",
       "CompetitionOpenSinceYear      True\n",
       "Promo2                       False\n",
       "Promo2SinceWeek               True\n",
       "Promo2SinceYear               True\n",
       "PromoInterval                 True\n",
       "dtype: bool"
      ]
     },
     "execution_count": 12,
     "metadata": {},
     "output_type": "execute_result"
    }
   ],
   "source": [
    "#Check which columns of store data have null values\n",
    "rosman_store_data.isnull().any()"
   ]
  },
  {
   "cell_type": "code",
   "execution_count": 13,
   "id": "roman-laser",
   "metadata": {},
   "outputs": [],
   "source": [
    "#Merge the train data with store data\n",
    "rosman_df = rosman_train_data.merge(rosman_store_data, how='left', on='Store')"
   ]
  },
  {
   "cell_type": "code",
   "execution_count": 14,
   "id": "dressed-pledge",
   "metadata": {},
   "outputs": [
    {
     "data": {
      "text/html": [
       "<div>\n",
       "<style scoped>\n",
       "    .dataframe tbody tr th:only-of-type {\n",
       "        vertical-align: middle;\n",
       "    }\n",
       "\n",
       "    .dataframe tbody tr th {\n",
       "        vertical-align: top;\n",
       "    }\n",
       "\n",
       "    .dataframe thead th {\n",
       "        text-align: right;\n",
       "    }\n",
       "</style>\n",
       "<table border=\"1\" class=\"dataframe\">\n",
       "  <thead>\n",
       "    <tr style=\"text-align: right;\">\n",
       "      <th></th>\n",
       "      <th>Date</th>\n",
       "      <th>Store</th>\n",
       "      <th>DayOfWeek</th>\n",
       "      <th>Sales</th>\n",
       "      <th>Customers</th>\n",
       "      <th>Open</th>\n",
       "      <th>Promo</th>\n",
       "      <th>StateHoliday</th>\n",
       "      <th>SchoolHoliday</th>\n",
       "      <th>StoreType</th>\n",
       "      <th>Assortment</th>\n",
       "      <th>CompetitionDistance</th>\n",
       "      <th>CompetitionOpenSinceMonth</th>\n",
       "      <th>CompetitionOpenSinceYear</th>\n",
       "      <th>Promo2</th>\n",
       "      <th>Promo2SinceWeek</th>\n",
       "      <th>Promo2SinceYear</th>\n",
       "      <th>PromoInterval</th>\n",
       "    </tr>\n",
       "  </thead>\n",
       "  <tbody>\n",
       "    <tr>\n",
       "      <th>0</th>\n",
       "      <td>2013-01-01</td>\n",
       "      <td>1115.0</td>\n",
       "      <td>2.0</td>\n",
       "      <td>0.0</td>\n",
       "      <td>0.0</td>\n",
       "      <td>0.0</td>\n",
       "      <td>0.0</td>\n",
       "      <td>a</td>\n",
       "      <td>1.0</td>\n",
       "      <td>d</td>\n",
       "      <td>c</td>\n",
       "      <td>5350.0</td>\n",
       "      <td>NaN</td>\n",
       "      <td>NaN</td>\n",
       "      <td>1.0</td>\n",
       "      <td>22.0</td>\n",
       "      <td>2012.0</td>\n",
       "      <td>Mar,Jun,Sept,Dec</td>\n",
       "    </tr>\n",
       "    <tr>\n",
       "      <th>1</th>\n",
       "      <td>2013-01-01</td>\n",
       "      <td>379.0</td>\n",
       "      <td>2.0</td>\n",
       "      <td>0.0</td>\n",
       "      <td>0.0</td>\n",
       "      <td>0.0</td>\n",
       "      <td>0.0</td>\n",
       "      <td>a</td>\n",
       "      <td>1.0</td>\n",
       "      <td>d</td>\n",
       "      <td>a</td>\n",
       "      <td>6630.0</td>\n",
       "      <td>NaN</td>\n",
       "      <td>NaN</td>\n",
       "      <td>0.0</td>\n",
       "      <td>NaN</td>\n",
       "      <td>NaN</td>\n",
       "      <td>NaN</td>\n",
       "    </tr>\n",
       "    <tr>\n",
       "      <th>2</th>\n",
       "      <td>2013-01-01</td>\n",
       "      <td>378.0</td>\n",
       "      <td>2.0</td>\n",
       "      <td>0.0</td>\n",
       "      <td>0.0</td>\n",
       "      <td>0.0</td>\n",
       "      <td>0.0</td>\n",
       "      <td>a</td>\n",
       "      <td>1.0</td>\n",
       "      <td>a</td>\n",
       "      <td>c</td>\n",
       "      <td>2140.0</td>\n",
       "      <td>8.0</td>\n",
       "      <td>2012.0</td>\n",
       "      <td>0.0</td>\n",
       "      <td>NaN</td>\n",
       "      <td>NaN</td>\n",
       "      <td>NaN</td>\n",
       "    </tr>\n",
       "  </tbody>\n",
       "</table>\n",
       "</div>"
      ],
      "text/plain": [
       "         Date   Store  DayOfWeek  Sales  Customers  Open  Promo StateHoliday  \\\n",
       "0  2013-01-01  1115.0        2.0    0.0        0.0   0.0    0.0            a   \n",
       "1  2013-01-01   379.0        2.0    0.0        0.0   0.0    0.0            a   \n",
       "2  2013-01-01   378.0        2.0    0.0        0.0   0.0    0.0            a   \n",
       "\n",
       "   SchoolHoliday StoreType Assortment  CompetitionDistance  \\\n",
       "0            1.0         d          c               5350.0   \n",
       "1            1.0         d          a               6630.0   \n",
       "2            1.0         a          c               2140.0   \n",
       "\n",
       "   CompetitionOpenSinceMonth  CompetitionOpenSinceYear  Promo2  \\\n",
       "0                        NaN                       NaN     1.0   \n",
       "1                        NaN                       NaN     0.0   \n",
       "2                        8.0                    2012.0     0.0   \n",
       "\n",
       "   Promo2SinceWeek  Promo2SinceYear     PromoInterval  \n",
       "0             22.0           2012.0  Mar,Jun,Sept,Dec  \n",
       "1              NaN              NaN               NaN  \n",
       "2              NaN              NaN               NaN  "
      ]
     },
     "execution_count": 14,
     "metadata": {},
     "output_type": "execute_result"
    }
   ],
   "source": [
    "rosman_df.head(3)"
   ]
  },
  {
   "cell_type": "code",
   "execution_count": 15,
   "id": "outdoor-elevation",
   "metadata": {},
   "outputs": [],
   "source": [
    "#Remove the null targets (i.e. Sales)\n",
    "null_Sales = rosman_df[rosman_df['Sales'].isnull()]\n",
    "rosman_df_new = rosman_df[~rosman_df.index.isin(null_Sales.index)]"
   ]
  },
  {
   "cell_type": "code",
   "execution_count": 16,
   "id": "northern-merit",
   "metadata": {},
   "outputs": [
    {
     "data": {
      "text/plain": [
       "Date                         False\n",
       "Store                         True\n",
       "DayOfWeek                     True\n",
       "Sales                        False\n",
       "Customers                     True\n",
       "Open                          True\n",
       "Promo                         True\n",
       "StateHoliday                  True\n",
       "SchoolHoliday                 True\n",
       "StoreType                     True\n",
       "Assortment                    True\n",
       "CompetitionDistance           True\n",
       "CompetitionOpenSinceMonth     True\n",
       "CompetitionOpenSinceYear      True\n",
       "Promo2                        True\n",
       "Promo2SinceWeek               True\n",
       "Promo2SinceYear               True\n",
       "PromoInterval                 True\n",
       "dtype: bool"
      ]
     },
     "execution_count": 16,
     "metadata": {},
     "output_type": "execute_result"
    }
   ],
   "source": [
    "rosman_df_new.isnull().any()"
   ]
  },
  {
   "cell_type": "code",
   "execution_count": 17,
   "id": "heard-reference",
   "metadata": {},
   "outputs": [],
   "source": [
    "#Remove the Cusomers column\n",
    "rosman_df_new = rosman_df_new.drop('Customers', axis=1)"
   ]
  },
  {
   "cell_type": "code",
   "execution_count": 18,
   "id": "executed-proof",
   "metadata": {},
   "outputs": [
    {
     "data": {
      "text/plain": [
       "Index(['Date', 'Store', 'DayOfWeek', 'Sales', 'Open', 'Promo', 'StateHoliday',\n",
       "       'SchoolHoliday', 'StoreType', 'Assortment', 'CompetitionDistance',\n",
       "       'CompetitionOpenSinceMonth', 'CompetitionOpenSinceYear', 'Promo2',\n",
       "       'Promo2SinceWeek', 'Promo2SinceYear', 'PromoInterval'],\n",
       "      dtype='object')"
      ]
     },
     "execution_count": 18,
     "metadata": {},
     "output_type": "execute_result"
    }
   ],
   "source": [
    "rosman_df_new.columns"
   ]
  },
  {
   "cell_type": "code",
   "execution_count": 19,
   "id": "aware-singer",
   "metadata": {},
   "outputs": [
    {
     "data": {
      "text/plain": [
       "(618747, 17)"
      ]
     },
     "execution_count": 19,
     "metadata": {},
     "output_type": "execute_result"
    }
   ],
   "source": [
    "rosman_df_new.shape"
   ]
  },
  {
   "cell_type": "code",
   "execution_count": 20,
   "id": "fifty-platform",
   "metadata": {},
   "outputs": [
    {
     "data": {
      "text/plain": [
       "1115"
      ]
     },
     "execution_count": 20,
     "metadata": {},
     "output_type": "execute_result"
    }
   ],
   "source": [
    "rosman_df_new.loc[:, 'Store'].nunique()"
   ]
  },
  {
   "cell_type": "code",
   "execution_count": 21,
   "id": "fantastic-briefs",
   "metadata": {},
   "outputs": [
    {
     "data": {
      "text/plain": [
       "7"
      ]
     },
     "execution_count": 21,
     "metadata": {},
     "output_type": "execute_result"
    }
   ],
   "source": [
    "rosman_df_new.loc[:, 'DayOfWeek'].nunique()"
   ]
  },
  {
   "cell_type": "code",
   "execution_count": 22,
   "id": "mature-tennessee",
   "metadata": {},
   "outputs": [
    {
     "data": {
      "text/plain": [
       "array([ 2., nan,  3.,  4.,  5.,  6.,  7.,  1.])"
      ]
     },
     "execution_count": 22,
     "metadata": {},
     "output_type": "execute_result"
    }
   ],
   "source": [
    "rosman_df_new.loc[:, 'DayOfWeek'].unique()"
   ]
  },
  {
   "cell_type": "code",
   "execution_count": 23,
   "id": "sound-killer",
   "metadata": {},
   "outputs": [
    {
     "data": {
      "text/plain": [
       "2"
      ]
     },
     "execution_count": 23,
     "metadata": {},
     "output_type": "execute_result"
    }
   ],
   "source": [
    "rosman_df_new.loc[:, 'Open'].nunique()"
   ]
  },
  {
   "cell_type": "code",
   "execution_count": 24,
   "id": "mighty-restriction",
   "metadata": {},
   "outputs": [
    {
     "data": {
      "text/plain": [
       "array([ 0.,  1., nan])"
      ]
     },
     "execution_count": 24,
     "metadata": {},
     "output_type": "execute_result"
    }
   ],
   "source": [
    "rosman_df_new.loc[:, 'Open'].unique()"
   ]
  },
  {
   "cell_type": "code",
   "execution_count": 25,
   "id": "listed-amazon",
   "metadata": {},
   "outputs": [
    {
     "data": {
      "text/plain": [
       "2"
      ]
     },
     "execution_count": 25,
     "metadata": {},
     "output_type": "execute_result"
    }
   ],
   "source": [
    "rosman_df_new.loc[:, 'Promo'].nunique()"
   ]
  },
  {
   "cell_type": "code",
   "execution_count": 26,
   "id": "apart-harmony",
   "metadata": {},
   "outputs": [
    {
     "data": {
      "text/plain": [
       "array([ 0., nan,  1.])"
      ]
     },
     "execution_count": 26,
     "metadata": {},
     "output_type": "execute_result"
    }
   ],
   "source": [
    "rosman_df_new.loc[:, 'Promo'].unique()"
   ]
  },
  {
   "cell_type": "code",
   "execution_count": 27,
   "id": "changing-continuity",
   "metadata": {},
   "outputs": [
    {
     "data": {
      "text/plain": [
       "array(['a', nan, '0', 'b', 'c', 0.0], dtype=object)"
      ]
     },
     "execution_count": 27,
     "metadata": {},
     "output_type": "execute_result"
    }
   ],
   "source": [
    "rosman_df_new.loc[:, 'StateHoliday'].unique()"
   ]
  },
  {
   "cell_type": "code",
   "execution_count": 28,
   "id": "liked-photograph",
   "metadata": {},
   "outputs": [
    {
     "data": {
      "text/plain": [
       "array([ 1., nan,  0.])"
      ]
     },
     "execution_count": 28,
     "metadata": {},
     "output_type": "execute_result"
    }
   ],
   "source": [
    "rosman_df_new.loc[:, 'SchoolHoliday'].unique()"
   ]
  },
  {
   "cell_type": "code",
   "execution_count": 29,
   "id": "legitimate-danger",
   "metadata": {},
   "outputs": [
    {
     "data": {
      "text/plain": [
       "array(['d', 'a', 'c', 'b', nan], dtype=object)"
      ]
     },
     "execution_count": 29,
     "metadata": {},
     "output_type": "execute_result"
    }
   ],
   "source": [
    "rosman_df_new.loc[:, 'StoreType'].unique()"
   ]
  },
  {
   "cell_type": "code",
   "execution_count": 30,
   "id": "complimentary-assumption",
   "metadata": {},
   "outputs": [
    {
     "data": {
      "text/plain": [
       "<AxesSubplot:>"
      ]
     },
     "execution_count": 30,
     "metadata": {},
     "output_type": "execute_result"
    },
    {
     "data": {
      "image/png": "[encoded data removed]",
      "text/plain": [
       "<Figure size 432x288 with 2 Axes>"
      ]
     },
     "metadata": {
      "needs_background": "light"
     },
     "output_type": "display_data"
    }
   ],
   "source": [
    "#Check the null values using heatmap\n",
    "nulls = rosman_df_new.isnull()\n",
    "sns.heatmap(nulls)"
   ]
  },
  {
   "cell_type": "code",
   "execution_count": 31,
   "id": "terminal-colonial",
   "metadata": {},
   "outputs": [],
   "source": [
    "#Remove nulls from the columns listed below\n",
    "for column in ['Store', 'DayOfWeek', 'Open', 'Promo', 'StateHoliday', 'SchoolHoliday',\n",
    "               'StoreType', 'Assortment', 'CompetitionDistance', 'Promo2']:\n",
    "    all_nulls = rosman_df_new[rosman_df_new[column].isnull()]\n",
    "    rosman_df_new = rosman_df_new[~rosman_df_new.index.isin(all_nulls.index)]"
   ]
  },
  {
   "cell_type": "code",
   "execution_count": 32,
   "id": "nominated-bowling",
   "metadata": {},
   "outputs": [
    {
     "data": {
      "text/plain": [
       "(513483, 17)"
      ]
     },
     "execution_count": 32,
     "metadata": {},
     "output_type": "execute_result"
    }
   ],
   "source": [
    "rosman_df_new.shape"
   ]
  },
  {
   "cell_type": "code",
   "execution_count": 33,
   "id": "accessible-nightlife",
   "metadata": {},
   "outputs": [
    {
     "data": {
      "text/plain": [
       "Date                         False\n",
       "Store                        False\n",
       "DayOfWeek                    False\n",
       "Sales                        False\n",
       "Open                         False\n",
       "Promo                        False\n",
       "StateHoliday                 False\n",
       "SchoolHoliday                False\n",
       "StoreType                    False\n",
       "Assortment                   False\n",
       "CompetitionDistance          False\n",
       "CompetitionOpenSinceMonth     True\n",
       "CompetitionOpenSinceYear      True\n",
       "Promo2                       False\n",
       "Promo2SinceWeek               True\n",
       "Promo2SinceYear               True\n",
       "PromoInterval                 True\n",
       "dtype: bool"
      ]
     },
     "execution_count": 33,
     "metadata": {},
     "output_type": "execute_result"
    }
   ],
   "source": [
    "rosman_df_new.isnull().any()"
   ]
  },
  {
   "cell_type": "code",
   "execution_count": 34,
   "id": "superb-median",
   "metadata": {},
   "outputs": [
    {
     "data": {
      "text/plain": [
       "<AxesSubplot:>"
      ]
     },
     "execution_count": 34,
     "metadata": {},
     "output_type": "execute_result"
    },
    {
     "data": {
      "image/png": "[encoded data removed]",
      "text/plain": [
       "<Figure size 432x288 with 2 Axes>"
      ]
     },
     "metadata": {
      "needs_background": "light"
     },
     "output_type": "display_data"
    }
   ],
   "source": [
    "nullies = rosman_df_new.isnull()\n",
    "sns.heatmap(nullies)"
   ]
  },
  {
   "cell_type": "code",
   "execution_count": 35,
   "id": "assigned-yeast",
   "metadata": {},
   "outputs": [
    {
     "data": {
      "text/plain": [
       "(513483, 17)"
      ]
     },
     "execution_count": 35,
     "metadata": {},
     "output_type": "execute_result"
    }
   ],
   "source": [
    "rosman_df_new.shape"
   ]
  },
  {
   "cell_type": "code",
   "execution_count": 36,
   "id": "muslim-liberty",
   "metadata": {},
   "outputs": [
    {
     "data": {
      "image/png": "[encoded data removed]",
      "text/plain": [
       "<Figure size 1008x1008 with 2 Axes>"
      ]
     },
     "metadata": {
      "needs_background": "light"
     },
     "output_type": "display_data"
    }
   ],
   "source": [
    "#Check the correlations\n",
    "corrMatrix = rosman_df_new.corr()\n",
    "fig = plt.figure(figsize=(14,14))\n",
    "sns.heatmap(corrMatrix, annot=True)\n",
    "plt.show()"
   ]
  },
  {
   "cell_type": "code",
   "execution_count": 37,
   "id": "acknowledged-emission",
   "metadata": {},
   "outputs": [
    {
     "data": {
      "text/plain": [
       "Date                          object\n",
       "Store                        float64\n",
       "DayOfWeek                    float64\n",
       "Sales                        float64\n",
       "Open                         float64\n",
       "Promo                        float64\n",
       "StateHoliday                  object\n",
       "SchoolHoliday                float64\n",
       "StoreType                     object\n",
       "Assortment                    object\n",
       "CompetitionDistance          float64\n",
       "CompetitionOpenSinceMonth    float64\n",
       "CompetitionOpenSinceYear     float64\n",
       "Promo2                       float64\n",
       "Promo2SinceWeek              float64\n",
       "Promo2SinceYear              float64\n",
       "PromoInterval                 object\n",
       "dtype: object"
      ]
     },
     "execution_count": 37,
     "metadata": {},
     "output_type": "execute_result"
    }
   ],
   "source": [
    "rosman_df_new.dtypes"
   ]
  },
  {
   "cell_type": "code",
   "execution_count": 38,
   "id": "laden-camel",
   "metadata": {},
   "outputs": [
    {
     "data": {
      "text/plain": [
       "count    513483.000000\n",
       "mean       5670.948199\n",
       "std        3807.853244\n",
       "min           0.000000\n",
       "25%        3649.000000\n",
       "50%        5631.000000\n",
       "75%        7716.000000\n",
       "max       38037.000000\n",
       "Name: Sales, dtype: float64"
      ]
     },
     "execution_count": 38,
     "metadata": {},
     "output_type": "execute_result"
    }
   ],
   "source": [
    "rosman_df_new.loc[:,'Sales'].describe()"
   ]
  },
  {
   "cell_type": "code",
   "execution_count": 39,
   "id": "trying-exclusive",
   "metadata": {},
   "outputs": [],
   "source": [
    "#Split the data into training and cross validation samples\n",
    "#The last 3 months go to the validation sample\n",
    "split_date = '2014-05-01'\n",
    "\n",
    "df_train = rosman_df_new.loc[rosman_df_new.loc[:, 'Date'] < split_date, :]\n",
    "df_cv = rosman_df_new.loc[rosman_df_new.loc[:, 'Date'] >= split_date, :]"
   ]
  },
  {
   "cell_type": "code",
   "execution_count": 40,
   "id": "agreed-wonder",
   "metadata": {
    "scrolled": true
   },
   "outputs": [
    {
     "data": {
      "text/html": [
       "<div>\n",
       "<style scoped>\n",
       "    .dataframe tbody tr th:only-of-type {\n",
       "        vertical-align: middle;\n",
       "    }\n",
       "\n",
       "    .dataframe tbody tr th {\n",
       "        vertical-align: top;\n",
       "    }\n",
       "\n",
       "    .dataframe thead th {\n",
       "        text-align: right;\n",
       "    }\n",
       "</style>\n",
       "<table border=\"1\" class=\"dataframe\">\n",
       "  <thead>\n",
       "    <tr style=\"text-align: right;\">\n",
       "      <th></th>\n",
       "      <th>Date</th>\n",
       "      <th>Store</th>\n",
       "      <th>DayOfWeek</th>\n",
       "      <th>Sales</th>\n",
       "      <th>Open</th>\n",
       "      <th>Promo</th>\n",
       "      <th>StateHoliday</th>\n",
       "      <th>SchoolHoliday</th>\n",
       "      <th>StoreType</th>\n",
       "      <th>Assortment</th>\n",
       "      <th>CompetitionDistance</th>\n",
       "      <th>CompetitionOpenSinceMonth</th>\n",
       "      <th>CompetitionOpenSinceYear</th>\n",
       "      <th>Promo2</th>\n",
       "      <th>Promo2SinceWeek</th>\n",
       "      <th>Promo2SinceYear</th>\n",
       "      <th>PromoInterval</th>\n",
       "    </tr>\n",
       "  </thead>\n",
       "  <tbody>\n",
       "    <tr>\n",
       "      <th>540767</th>\n",
       "      <td>2014-04-30</td>\n",
       "      <td>742.0</td>\n",
       "      <td>3.0</td>\n",
       "      <td>13178.0</td>\n",
       "      <td>1.0</td>\n",
       "      <td>1.0</td>\n",
       "      <td>0</td>\n",
       "      <td>0.0</td>\n",
       "      <td>d</td>\n",
       "      <td>c</td>\n",
       "      <td>4380.0</td>\n",
       "      <td>NaN</td>\n",
       "      <td>NaN</td>\n",
       "      <td>0.0</td>\n",
       "      <td>NaN</td>\n",
       "      <td>NaN</td>\n",
       "      <td>NaN</td>\n",
       "    </tr>\n",
       "    <tr>\n",
       "      <th>540768</th>\n",
       "      <td>2014-04-30</td>\n",
       "      <td>743.0</td>\n",
       "      <td>3.0</td>\n",
       "      <td>4680.0</td>\n",
       "      <td>1.0</td>\n",
       "      <td>1.0</td>\n",
       "      <td>0</td>\n",
       "      <td>0.0</td>\n",
       "      <td>a</td>\n",
       "      <td>a</td>\n",
       "      <td>6710.0</td>\n",
       "      <td>11.0</td>\n",
       "      <td>2003.0</td>\n",
       "      <td>1.0</td>\n",
       "      <td>14.0</td>\n",
       "      <td>2012.0</td>\n",
       "      <td>Jan,Apr,Jul,Oct</td>\n",
       "    </tr>\n",
       "    <tr>\n",
       "      <th>540770</th>\n",
       "      <td>2014-04-30</td>\n",
       "      <td>745.0</td>\n",
       "      <td>3.0</td>\n",
       "      <td>10644.0</td>\n",
       "      <td>1.0</td>\n",
       "      <td>1.0</td>\n",
       "      <td>0</td>\n",
       "      <td>0.0</td>\n",
       "      <td>a</td>\n",
       "      <td>a</td>\n",
       "      <td>17650.0</td>\n",
       "      <td>11.0</td>\n",
       "      <td>2013.0</td>\n",
       "      <td>1.0</td>\n",
       "      <td>37.0</td>\n",
       "      <td>2009.0</td>\n",
       "      <td>Jan,Apr,Jul,Oct</td>\n",
       "    </tr>\n",
       "    <tr>\n",
       "      <th>540771</th>\n",
       "      <td>2014-04-30</td>\n",
       "      <td>746.0</td>\n",
       "      <td>3.0</td>\n",
       "      <td>8316.0</td>\n",
       "      <td>1.0</td>\n",
       "      <td>1.0</td>\n",
       "      <td>0</td>\n",
       "      <td>0.0</td>\n",
       "      <td>d</td>\n",
       "      <td>c</td>\n",
       "      <td>4330.0</td>\n",
       "      <td>2.0</td>\n",
       "      <td>2011.0</td>\n",
       "      <td>1.0</td>\n",
       "      <td>35.0</td>\n",
       "      <td>2011.0</td>\n",
       "      <td>Mar,Jun,Sept,Dec</td>\n",
       "    </tr>\n",
       "    <tr>\n",
       "      <th>540773</th>\n",
       "      <td>2014-04-30</td>\n",
       "      <td>741.0</td>\n",
       "      <td>3.0</td>\n",
       "      <td>12208.0</td>\n",
       "      <td>1.0</td>\n",
       "      <td>1.0</td>\n",
       "      <td>0</td>\n",
       "      <td>0.0</td>\n",
       "      <td>d</td>\n",
       "      <td>c</td>\n",
       "      <td>11900.0</td>\n",
       "      <td>NaN</td>\n",
       "      <td>NaN</td>\n",
       "      <td>0.0</td>\n",
       "      <td>NaN</td>\n",
       "      <td>NaN</td>\n",
       "      <td>NaN</td>\n",
       "    </tr>\n",
       "  </tbody>\n",
       "</table>\n",
       "</div>"
      ],
      "text/plain": [
       "              Date  Store  DayOfWeek    Sales  Open  Promo StateHoliday  \\\n",
       "540767  2014-04-30  742.0        3.0  13178.0   1.0    1.0            0   \n",
       "540768  2014-04-30  743.0        3.0   4680.0   1.0    1.0            0   \n",
       "540770  2014-04-30  745.0        3.0  10644.0   1.0    1.0            0   \n",
       "540771  2014-04-30  746.0        3.0   8316.0   1.0    1.0            0   \n",
       "540773  2014-04-30  741.0        3.0  12208.0   1.0    1.0            0   \n",
       "\n",
       "        SchoolHoliday StoreType Assortment  CompetitionDistance  \\\n",
       "540767            0.0         d          c               4380.0   \n",
       "540768            0.0         a          a               6710.0   \n",
       "540770            0.0         a          a              17650.0   \n",
       "540771            0.0         d          c               4330.0   \n",
       "540773            0.0         d          c              11900.0   \n",
       "\n",
       "        CompetitionOpenSinceMonth  CompetitionOpenSinceYear  Promo2  \\\n",
       "540767                        NaN                       NaN     0.0   \n",
       "540768                       11.0                    2003.0     1.0   \n",
       "540770                       11.0                    2013.0     1.0   \n",
       "540771                        2.0                    2011.0     1.0   \n",
       "540773                        NaN                       NaN     0.0   \n",
       "\n",
       "        Promo2SinceWeek  Promo2SinceYear     PromoInterval  \n",
       "540767              NaN              NaN               NaN  \n",
       "540768             14.0           2012.0   Jan,Apr,Jul,Oct  \n",
       "540770             37.0           2009.0   Jan,Apr,Jul,Oct  \n",
       "540771             35.0           2011.0  Mar,Jun,Sept,Dec  \n",
       "540773              NaN              NaN               NaN  "
      ]
     },
     "execution_count": 40,
     "metadata": {},
     "output_type": "execute_result"
    }
   ],
   "source": [
    "df_train.tail()"
   ]
  },
  {
   "cell_type": "code",
   "execution_count": 41,
   "id": "asian-essence",
   "metadata": {
    "scrolled": true
   },
   "outputs": [
    {
     "data": {
      "text/html": [
       "<div>\n",
       "<style scoped>\n",
       "    .dataframe tbody tr th:only-of-type {\n",
       "        vertical-align: middle;\n",
       "    }\n",
       "\n",
       "    .dataframe tbody tr th {\n",
       "        vertical-align: top;\n",
       "    }\n",
       "\n",
       "    .dataframe thead th {\n",
       "        text-align: right;\n",
       "    }\n",
       "</style>\n",
       "<table border=\"1\" class=\"dataframe\">\n",
       "  <thead>\n",
       "    <tr style=\"text-align: right;\">\n",
       "      <th></th>\n",
       "      <th>Date</th>\n",
       "      <th>Store</th>\n",
       "      <th>DayOfWeek</th>\n",
       "      <th>Sales</th>\n",
       "      <th>Open</th>\n",
       "      <th>Promo</th>\n",
       "      <th>StateHoliday</th>\n",
       "      <th>SchoolHoliday</th>\n",
       "      <th>StoreType</th>\n",
       "      <th>Assortment</th>\n",
       "      <th>CompetitionDistance</th>\n",
       "      <th>CompetitionOpenSinceMonth</th>\n",
       "      <th>CompetitionOpenSinceYear</th>\n",
       "      <th>Promo2</th>\n",
       "      <th>Promo2SinceWeek</th>\n",
       "      <th>Promo2SinceYear</th>\n",
       "      <th>PromoInterval</th>\n",
       "    </tr>\n",
       "  </thead>\n",
       "  <tbody>\n",
       "    <tr>\n",
       "      <th>540774</th>\n",
       "      <td>2014-05-01</td>\n",
       "      <td>372.0</td>\n",
       "      <td>4.0</td>\n",
       "      <td>0.0</td>\n",
       "      <td>0.0</td>\n",
       "      <td>1.0</td>\n",
       "      <td>a</td>\n",
       "      <td>0.0</td>\n",
       "      <td>d</td>\n",
       "      <td>c</td>\n",
       "      <td>4880.0</td>\n",
       "      <td>8.0</td>\n",
       "      <td>2010.0</td>\n",
       "      <td>1.0</td>\n",
       "      <td>18.0</td>\n",
       "      <td>2014.0</td>\n",
       "      <td>Jan,Apr,Jul,Oct</td>\n",
       "    </tr>\n",
       "    <tr>\n",
       "      <th>540775</th>\n",
       "      <td>2014-05-01</td>\n",
       "      <td>368.0</td>\n",
       "      <td>4.0</td>\n",
       "      <td>0.0</td>\n",
       "      <td>0.0</td>\n",
       "      <td>1.0</td>\n",
       "      <td>a</td>\n",
       "      <td>0.0</td>\n",
       "      <td>d</td>\n",
       "      <td>c</td>\n",
       "      <td>1450.0</td>\n",
       "      <td>4.0</td>\n",
       "      <td>2005.0</td>\n",
       "      <td>1.0</td>\n",
       "      <td>45.0</td>\n",
       "      <td>2009.0</td>\n",
       "      <td>Feb,May,Aug,Nov</td>\n",
       "    </tr>\n",
       "    <tr>\n",
       "      <th>540776</th>\n",
       "      <td>2014-05-01</td>\n",
       "      <td>369.0</td>\n",
       "      <td>4.0</td>\n",
       "      <td>0.0</td>\n",
       "      <td>0.0</td>\n",
       "      <td>1.0</td>\n",
       "      <td>a</td>\n",
       "      <td>0.0</td>\n",
       "      <td>d</td>\n",
       "      <td>c</td>\n",
       "      <td>5870.0</td>\n",
       "      <td>4.0</td>\n",
       "      <td>2014.0</td>\n",
       "      <td>0.0</td>\n",
       "      <td>NaN</td>\n",
       "      <td>NaN</td>\n",
       "      <td>NaN</td>\n",
       "    </tr>\n",
       "    <tr>\n",
       "      <th>540778</th>\n",
       "      <td>2014-05-01</td>\n",
       "      <td>371.0</td>\n",
       "      <td>4.0</td>\n",
       "      <td>0.0</td>\n",
       "      <td>0.0</td>\n",
       "      <td>1.0</td>\n",
       "      <td>a</td>\n",
       "      <td>0.0</td>\n",
       "      <td>d</td>\n",
       "      <td>c</td>\n",
       "      <td>1970.0</td>\n",
       "      <td>7.0</td>\n",
       "      <td>2009.0</td>\n",
       "      <td>1.0</td>\n",
       "      <td>45.0</td>\n",
       "      <td>2014.0</td>\n",
       "      <td>Feb,May,Aug,Nov</td>\n",
       "    </tr>\n",
       "    <tr>\n",
       "      <th>540779</th>\n",
       "      <td>2014-05-01</td>\n",
       "      <td>373.0</td>\n",
       "      <td>4.0</td>\n",
       "      <td>0.0</td>\n",
       "      <td>0.0</td>\n",
       "      <td>1.0</td>\n",
       "      <td>a</td>\n",
       "      <td>0.0</td>\n",
       "      <td>d</td>\n",
       "      <td>c</td>\n",
       "      <td>11120.0</td>\n",
       "      <td>NaN</td>\n",
       "      <td>NaN</td>\n",
       "      <td>1.0</td>\n",
       "      <td>22.0</td>\n",
       "      <td>2012.0</td>\n",
       "      <td>Jan,Apr,Jul,Oct</td>\n",
       "    </tr>\n",
       "  </tbody>\n",
       "</table>\n",
       "</div>"
      ],
      "text/plain": [
       "              Date  Store  DayOfWeek  Sales  Open  Promo StateHoliday  \\\n",
       "540774  2014-05-01  372.0        4.0    0.0   0.0    1.0            a   \n",
       "540775  2014-05-01  368.0        4.0    0.0   0.0    1.0            a   \n",
       "540776  2014-05-01  369.0        4.0    0.0   0.0    1.0            a   \n",
       "540778  2014-05-01  371.0        4.0    0.0   0.0    1.0            a   \n",
       "540779  2014-05-01  373.0        4.0    0.0   0.0    1.0            a   \n",
       "\n",
       "        SchoolHoliday StoreType Assortment  CompetitionDistance  \\\n",
       "540774            0.0         d          c               4880.0   \n",
       "540775            0.0         d          c               1450.0   \n",
       "540776            0.0         d          c               5870.0   \n",
       "540778            0.0         d          c               1970.0   \n",
       "540779            0.0         d          c              11120.0   \n",
       "\n",
       "        CompetitionOpenSinceMonth  CompetitionOpenSinceYear  Promo2  \\\n",
       "540774                        8.0                    2010.0     1.0   \n",
       "540775                        4.0                    2005.0     1.0   \n",
       "540776                        4.0                    2014.0     0.0   \n",
       "540778                        7.0                    2009.0     1.0   \n",
       "540779                        NaN                       NaN     1.0   \n",
       "\n",
       "        Promo2SinceWeek  Promo2SinceYear    PromoInterval  \n",
       "540774             18.0           2014.0  Jan,Apr,Jul,Oct  \n",
       "540775             45.0           2009.0  Feb,May,Aug,Nov  \n",
       "540776              NaN              NaN              NaN  \n",
       "540778             45.0           2014.0  Feb,May,Aug,Nov  \n",
       "540779             22.0           2012.0  Jan,Apr,Jul,Oct  "
      ]
     },
     "execution_count": 41,
     "metadata": {},
     "output_type": "execute_result"
    }
   ],
   "source": [
    "df_cv.head()"
   ]
  },
  {
   "cell_type": "code",
   "execution_count": 42,
   "id": "introductory-nicaragua",
   "metadata": {},
   "outputs": [
    {
     "data": {
      "text/plain": [
       "(435339, 17)"
      ]
     },
     "execution_count": 42,
     "metadata": {},
     "output_type": "execute_result"
    }
   ],
   "source": [
    "df_train.shape"
   ]
  },
  {
   "cell_type": "code",
   "execution_count": 43,
   "id": "invalid-progressive",
   "metadata": {},
   "outputs": [
    {
     "data": {
      "text/plain": [
       "(78144, 17)"
      ]
     },
     "execution_count": 43,
     "metadata": {},
     "output_type": "execute_result"
    }
   ],
   "source": [
    "df_cv.shape"
   ]
  },
  {
   "cell_type": "code",
   "execution_count": 46,
   "id": "thick-bookmark",
   "metadata": {},
   "outputs": [
    {
     "data": {
      "text/plain": [
       "5654.365887274055"
      ]
     },
     "execution_count": 46,
     "metadata": {},
     "output_type": "execute_result"
    }
   ],
   "source": [
    "df_train.loc[:, 'Sales'].mean()"
   ]
  },
  {
   "cell_type": "code",
   "execution_count": 53,
   "id": "burning-burst",
   "metadata": {},
   "outputs": [
    {
     "name": "stderr",
     "output_type": "stream",
     "text": [
      "/Users/sara/opt/anaconda3/lib/python3.7/site-packages/ipykernel_launcher.py:1: SettingWithCopyWarning: \n",
      "A value is trying to be set on a copy of a slice from a DataFrame.\n",
      "Try using .loc[row_indexer,col_indexer] = value instead\n",
      "\n",
      "See the caveats in the documentation: https://pandas.pydata.org/pandas-docs/stable/user_guide/indexing.html#returning-a-view-versus-a-copy\n",
      "  \"\"\"Entry point for launching an IPython kernel.\n"
     ]
    }
   ],
   "source": [
    "df_train['Sales_mean'] = df_train.loc[:, 'Sales'].mean()"
   ]
  },
  {
   "cell_type": "code",
   "execution_count": 54,
   "id": "optional-morris",
   "metadata": {
    "scrolled": true
   },
   "outputs": [
    {
     "data": {
      "text/html": [
       "<div>\n",
       "<style scoped>\n",
       "    .dataframe tbody tr th:only-of-type {\n",
       "        vertical-align: middle;\n",
       "    }\n",
       "\n",
       "    .dataframe tbody tr th {\n",
       "        vertical-align: top;\n",
       "    }\n",
       "\n",
       "    .dataframe thead th {\n",
       "        text-align: right;\n",
       "    }\n",
       "</style>\n",
       "<table border=\"1\" class=\"dataframe\">\n",
       "  <thead>\n",
       "    <tr style=\"text-align: right;\">\n",
       "      <th></th>\n",
       "      <th>Date</th>\n",
       "      <th>Store</th>\n",
       "      <th>DayOfWeek</th>\n",
       "      <th>Sales</th>\n",
       "      <th>Open</th>\n",
       "      <th>Promo</th>\n",
       "      <th>StateHoliday</th>\n",
       "      <th>SchoolHoliday</th>\n",
       "      <th>StoreType</th>\n",
       "      <th>Assortment</th>\n",
       "      <th>CompetitionDistance</th>\n",
       "      <th>CompetitionOpenSinceMonth</th>\n",
       "      <th>CompetitionOpenSinceYear</th>\n",
       "      <th>Promo2</th>\n",
       "      <th>Promo2SinceWeek</th>\n",
       "      <th>Promo2SinceYear</th>\n",
       "      <th>PromoInterval</th>\n",
       "      <th>mean</th>\n",
       "      <th>Sales_mean</th>\n",
       "    </tr>\n",
       "  </thead>\n",
       "  <tbody>\n",
       "    <tr>\n",
       "      <th>0</th>\n",
       "      <td>2013-01-01</td>\n",
       "      <td>1115.0</td>\n",
       "      <td>2.0</td>\n",
       "      <td>0.0</td>\n",
       "      <td>0.0</td>\n",
       "      <td>0.0</td>\n",
       "      <td>a</td>\n",
       "      <td>1.0</td>\n",
       "      <td>d</td>\n",
       "      <td>c</td>\n",
       "      <td>5350.0</td>\n",
       "      <td>NaN</td>\n",
       "      <td>NaN</td>\n",
       "      <td>1.0</td>\n",
       "      <td>22.0</td>\n",
       "      <td>2012.0</td>\n",
       "      <td>Mar,Jun,Sept,Dec</td>\n",
       "      <td>5654.365887</td>\n",
       "      <td>5654.365887</td>\n",
       "    </tr>\n",
       "    <tr>\n",
       "      <th>1</th>\n",
       "      <td>2013-01-01</td>\n",
       "      <td>379.0</td>\n",
       "      <td>2.0</td>\n",
       "      <td>0.0</td>\n",
       "      <td>0.0</td>\n",
       "      <td>0.0</td>\n",
       "      <td>a</td>\n",
       "      <td>1.0</td>\n",
       "      <td>d</td>\n",
       "      <td>a</td>\n",
       "      <td>6630.0</td>\n",
       "      <td>NaN</td>\n",
       "      <td>NaN</td>\n",
       "      <td>0.0</td>\n",
       "      <td>NaN</td>\n",
       "      <td>NaN</td>\n",
       "      <td>NaN</td>\n",
       "      <td>5654.365887</td>\n",
       "      <td>5654.365887</td>\n",
       "    </tr>\n",
       "    <tr>\n",
       "      <th>2</th>\n",
       "      <td>2013-01-01</td>\n",
       "      <td>378.0</td>\n",
       "      <td>2.0</td>\n",
       "      <td>0.0</td>\n",
       "      <td>0.0</td>\n",
       "      <td>0.0</td>\n",
       "      <td>a</td>\n",
       "      <td>1.0</td>\n",
       "      <td>a</td>\n",
       "      <td>c</td>\n",
       "      <td>2140.0</td>\n",
       "      <td>8.0</td>\n",
       "      <td>2012.0</td>\n",
       "      <td>0.0</td>\n",
       "      <td>NaN</td>\n",
       "      <td>NaN</td>\n",
       "      <td>NaN</td>\n",
       "      <td>5654.365887</td>\n",
       "      <td>5654.365887</td>\n",
       "    </tr>\n",
       "    <tr>\n",
       "      <th>3</th>\n",
       "      <td>2013-01-01</td>\n",
       "      <td>377.0</td>\n",
       "      <td>2.0</td>\n",
       "      <td>0.0</td>\n",
       "      <td>0.0</td>\n",
       "      <td>0.0</td>\n",
       "      <td>a</td>\n",
       "      <td>1.0</td>\n",
       "      <td>a</td>\n",
       "      <td>c</td>\n",
       "      <td>100.0</td>\n",
       "      <td>6.0</td>\n",
       "      <td>2010.0</td>\n",
       "      <td>1.0</td>\n",
       "      <td>18.0</td>\n",
       "      <td>2010.0</td>\n",
       "      <td>Feb,May,Aug,Nov</td>\n",
       "      <td>5654.365887</td>\n",
       "      <td>5654.365887</td>\n",
       "    </tr>\n",
       "    <tr>\n",
       "      <th>4</th>\n",
       "      <td>2013-01-01</td>\n",
       "      <td>376.0</td>\n",
       "      <td>2.0</td>\n",
       "      <td>0.0</td>\n",
       "      <td>0.0</td>\n",
       "      <td>0.0</td>\n",
       "      <td>a</td>\n",
       "      <td>1.0</td>\n",
       "      <td>a</td>\n",
       "      <td>a</td>\n",
       "      <td>160.0</td>\n",
       "      <td>8.0</td>\n",
       "      <td>2012.0</td>\n",
       "      <td>0.0</td>\n",
       "      <td>NaN</td>\n",
       "      <td>NaN</td>\n",
       "      <td>NaN</td>\n",
       "      <td>5654.365887</td>\n",
       "      <td>5654.365887</td>\n",
       "    </tr>\n",
       "  </tbody>\n",
       "</table>\n",
       "</div>"
      ],
      "text/plain": [
       "         Date   Store  DayOfWeek  Sales  Open  Promo StateHoliday  \\\n",
       "0  2013-01-01  1115.0        2.0    0.0   0.0    0.0            a   \n",
       "1  2013-01-01   379.0        2.0    0.0   0.0    0.0            a   \n",
       "2  2013-01-01   378.0        2.0    0.0   0.0    0.0            a   \n",
       "3  2013-01-01   377.0        2.0    0.0   0.0    0.0            a   \n",
       "4  2013-01-01   376.0        2.0    0.0   0.0    0.0            a   \n",
       "\n",
       "   SchoolHoliday StoreType Assortment  CompetitionDistance  \\\n",
       "0            1.0         d          c               5350.0   \n",
       "1            1.0         d          a               6630.0   \n",
       "2            1.0         a          c               2140.0   \n",
       "3            1.0         a          c                100.0   \n",
       "4            1.0         a          a                160.0   \n",
       "\n",
       "   CompetitionOpenSinceMonth  CompetitionOpenSinceYear  Promo2  \\\n",
       "0                        NaN                       NaN     1.0   \n",
       "1                        NaN                       NaN     0.0   \n",
       "2                        8.0                    2012.0     0.0   \n",
       "3                        6.0                    2010.0     1.0   \n",
       "4                        8.0                    2012.0     0.0   \n",
       "\n",
       "   Promo2SinceWeek  Promo2SinceYear     PromoInterval         mean  \\\n",
       "0             22.0           2012.0  Mar,Jun,Sept,Dec  5654.365887   \n",
       "1              NaN              NaN               NaN  5654.365887   \n",
       "2              NaN              NaN               NaN  5654.365887   \n",
       "3             18.0           2010.0   Feb,May,Aug,Nov  5654.365887   \n",
       "4              NaN              NaN               NaN  5654.365887   \n",
       "\n",
       "    Sales_mean  \n",
       "0  5654.365887  \n",
       "1  5654.365887  \n",
       "2  5654.365887  \n",
       "3  5654.365887  \n",
       "4  5654.365887  "
      ]
     },
     "execution_count": 54,
     "metadata": {},
     "output_type": "execute_result"
    }
   ],
   "source": [
    "df_train.head()"
   ]
  },
  {
   "cell_type": "code",
   "execution_count": 52,
   "id": "yellow-hammer",
   "metadata": {},
   "outputs": [
    {
     "data": {
      "text/plain": [
       "<AxesSubplot:>"
      ]
     },
     "execution_count": 52,
     "metadata": {},
     "output_type": "execute_result"
    },
    {
     "data": {
      "image/png": "[encoded data removed]",
      "text/plain": [
       "<Figure size 432x288 with 1 Axes>"
      ]
     },
     "metadata": {
      "needs_background": "light"
     },
     "output_type": "display_data"
    }
   ],
   "source": [
    "df_train.loc[:, 'Sales'].plot()"
   ]
  },
  {
   "cell_type": "code",
   "execution_count": 57,
   "id": "moderate-wyoming",
   "metadata": {},
   "outputs": [
    {
     "data": {
      "text/plain": [
       "<AxesSubplot:xlabel='Date'>"
      ]
     },
     "execution_count": 57,
     "metadata": {},
     "output_type": "execute_result"
    },
    {
     "data": {
      "image/png": "[encoded data removed]",
      "text/plain": [
       "<Figure size 432x288 with 1 Axes>"
      ]
     },
     "metadata": {
      "needs_background": "light"
     },
     "output_type": "display_data"
    }
   ],
   "source": [
    "df_train.plot(x='Date', y='Sales', style='o')"
   ]
  },
  {
   "cell_type": "code",
   "execution_count": 55,
   "id": "acceptable-gather",
   "metadata": {},
   "outputs": [
    {
     "data": {
      "text/plain": [
       "<AxesSubplot:>"
      ]
     },
     "execution_count": 55,
     "metadata": {},
     "output_type": "execute_result"
    },
    {
     "data": {
      "image/png": "[encoded data removed]",
      "text/plain": [
       "<Figure size 432x288 with 1 Axes>"
      ]
     },
     "metadata": {
      "needs_background": "light"
     },
     "output_type": "display_data"
    }
   ],
   "source": [
    "df_train.loc[:, 'Sales_mean'].plot()"
   ]
  },
  {
   "cell_type": "code",
   "execution_count": 56,
   "id": "rubber-hierarchy",
   "metadata": {},
   "outputs": [
    {
     "data": {
      "image/png": "[encoded data removed]",
      "text/plain": [
       "<Figure size 1152x576 with 1 Axes>"
      ]
     },
     "metadata": {
      "needs_background": "light"
     },
     "output_type": "display_data"
    }
   ],
   "source": [
    "p1 = plt.figure(figsize=(16,8))\n",
    "p1 = plt.plot(df_train['Sales_mean'], label='Mean')\n",
    "p1 = plt.plot(df_train.loc[:, 'Sales'], label='Original')\n",
    "p1 = plt.legend(loc='best')\n",
    "plt.show()"
   ]
  },
  {
   "cell_type": "code",
   "execution_count": 61,
   "id": "occasional-attraction",
   "metadata": {},
   "outputs": [
    {
     "data": {
      "text/html": [
       "<div>\n",
       "<style scoped>\n",
       "    .dataframe tbody tr th:only-of-type {\n",
       "        vertical-align: middle;\n",
       "    }\n",
       "\n",
       "    .dataframe tbody tr th {\n",
       "        vertical-align: top;\n",
       "    }\n",
       "\n",
       "    .dataframe thead th {\n",
       "        text-align: right;\n",
       "    }\n",
       "</style>\n",
       "<table border=\"1\" class=\"dataframe\">\n",
       "  <thead>\n",
       "    <tr style=\"text-align: right;\">\n",
       "      <th></th>\n",
       "      <th>Date</th>\n",
       "      <th>Store</th>\n",
       "      <th>DayOfWeek</th>\n",
       "      <th>Sales</th>\n",
       "      <th>Open</th>\n",
       "      <th>Promo</th>\n",
       "      <th>StateHoliday</th>\n",
       "      <th>SchoolHoliday</th>\n",
       "      <th>StoreType</th>\n",
       "      <th>Assortment</th>\n",
       "      <th>CompetitionDistance</th>\n",
       "      <th>CompetitionOpenSinceMonth</th>\n",
       "      <th>CompetitionOpenSinceYear</th>\n",
       "      <th>Promo2</th>\n",
       "      <th>Promo2SinceWeek</th>\n",
       "      <th>Promo2SinceYear</th>\n",
       "      <th>PromoInterval</th>\n",
       "      <th>mean</th>\n",
       "      <th>Sales_mean</th>\n",
       "    </tr>\n",
       "  </thead>\n",
       "  <tbody>\n",
       "    <tr>\n",
       "      <th>1114</th>\n",
       "      <td>2013-01-02</td>\n",
       "      <td>371.0</td>\n",
       "      <td>3.0</td>\n",
       "      <td>7374.0</td>\n",
       "      <td>1.0</td>\n",
       "      <td>0.0</td>\n",
       "      <td>0</td>\n",
       "      <td>1.0</td>\n",
       "      <td>d</td>\n",
       "      <td>c</td>\n",
       "      <td>1970.0</td>\n",
       "      <td>7.0</td>\n",
       "      <td>2009.0</td>\n",
       "      <td>1.0</td>\n",
       "      <td>45.0</td>\n",
       "      <td>2014.0</td>\n",
       "      <td>Feb,May,Aug,Nov</td>\n",
       "      <td>5654.365887</td>\n",
       "      <td>5654.365887</td>\n",
       "    </tr>\n",
       "    <tr>\n",
       "      <th>1115</th>\n",
       "      <td>2013-01-02</td>\n",
       "      <td>367.0</td>\n",
       "      <td>3.0</td>\n",
       "      <td>4052.0</td>\n",
       "      <td>1.0</td>\n",
       "      <td>0.0</td>\n",
       "      <td>0</td>\n",
       "      <td>1.0</td>\n",
       "      <td>d</td>\n",
       "      <td>c</td>\n",
       "      <td>2640.0</td>\n",
       "      <td>9.0</td>\n",
       "      <td>2012.0</td>\n",
       "      <td>0.0</td>\n",
       "      <td>NaN</td>\n",
       "      <td>NaN</td>\n",
       "      <td>NaN</td>\n",
       "      <td>5654.365887</td>\n",
       "      <td>5654.365887</td>\n",
       "    </tr>\n",
       "    <tr>\n",
       "      <th>1117</th>\n",
       "      <td>2013-01-02</td>\n",
       "      <td>369.0</td>\n",
       "      <td>3.0</td>\n",
       "      <td>6063.0</td>\n",
       "      <td>1.0</td>\n",
       "      <td>0.0</td>\n",
       "      <td>0</td>\n",
       "      <td>1.0</td>\n",
       "      <td>d</td>\n",
       "      <td>c</td>\n",
       "      <td>5870.0</td>\n",
       "      <td>4.0</td>\n",
       "      <td>2014.0</td>\n",
       "      <td>0.0</td>\n",
       "      <td>NaN</td>\n",
       "      <td>NaN</td>\n",
       "      <td>NaN</td>\n",
       "      <td>5654.365887</td>\n",
       "      <td>5654.365887</td>\n",
       "    </tr>\n",
       "    <tr>\n",
       "      <th>1118</th>\n",
       "      <td>2013-01-02</td>\n",
       "      <td>370.0</td>\n",
       "      <td>3.0</td>\n",
       "      <td>5462.0</td>\n",
       "      <td>1.0</td>\n",
       "      <td>0.0</td>\n",
       "      <td>0</td>\n",
       "      <td>1.0</td>\n",
       "      <td>d</td>\n",
       "      <td>a</td>\n",
       "      <td>8250.0</td>\n",
       "      <td>10.0</td>\n",
       "      <td>2000.0</td>\n",
       "      <td>1.0</td>\n",
       "      <td>31.0</td>\n",
       "      <td>2009.0</td>\n",
       "      <td>Jan,Apr,Jul,Oct</td>\n",
       "      <td>5654.365887</td>\n",
       "      <td>5654.365887</td>\n",
       "    </tr>\n",
       "    <tr>\n",
       "      <th>1119</th>\n",
       "      <td>2013-01-02</td>\n",
       "      <td>372.0</td>\n",
       "      <td>3.0</td>\n",
       "      <td>8014.0</td>\n",
       "      <td>1.0</td>\n",
       "      <td>0.0</td>\n",
       "      <td>0</td>\n",
       "      <td>1.0</td>\n",
       "      <td>d</td>\n",
       "      <td>c</td>\n",
       "      <td>4880.0</td>\n",
       "      <td>8.0</td>\n",
       "      <td>2010.0</td>\n",
       "      <td>1.0</td>\n",
       "      <td>18.0</td>\n",
       "      <td>2014.0</td>\n",
       "      <td>Jan,Apr,Jul,Oct</td>\n",
       "      <td>5654.365887</td>\n",
       "      <td>5654.365887</td>\n",
       "    </tr>\n",
       "    <tr>\n",
       "      <th>...</th>\n",
       "      <td>...</td>\n",
       "      <td>...</td>\n",
       "      <td>...</td>\n",
       "      <td>...</td>\n",
       "      <td>...</td>\n",
       "      <td>...</td>\n",
       "      <td>...</td>\n",
       "      <td>...</td>\n",
       "      <td>...</td>\n",
       "      <td>...</td>\n",
       "      <td>...</td>\n",
       "      <td>...</td>\n",
       "      <td>...</td>\n",
       "      <td>...</td>\n",
       "      <td>...</td>\n",
       "      <td>...</td>\n",
       "      <td>...</td>\n",
       "      <td>...</td>\n",
       "      <td>...</td>\n",
       "    </tr>\n",
       "    <tr>\n",
       "      <th>540767</th>\n",
       "      <td>2014-04-30</td>\n",
       "      <td>742.0</td>\n",
       "      <td>3.0</td>\n",
       "      <td>13178.0</td>\n",
       "      <td>1.0</td>\n",
       "      <td>1.0</td>\n",
       "      <td>0</td>\n",
       "      <td>0.0</td>\n",
       "      <td>d</td>\n",
       "      <td>c</td>\n",
       "      <td>4380.0</td>\n",
       "      <td>NaN</td>\n",
       "      <td>NaN</td>\n",
       "      <td>0.0</td>\n",
       "      <td>NaN</td>\n",
       "      <td>NaN</td>\n",
       "      <td>NaN</td>\n",
       "      <td>5654.365887</td>\n",
       "      <td>5654.365887</td>\n",
       "    </tr>\n",
       "    <tr>\n",
       "      <th>540768</th>\n",
       "      <td>2014-04-30</td>\n",
       "      <td>743.0</td>\n",
       "      <td>3.0</td>\n",
       "      <td>4680.0</td>\n",
       "      <td>1.0</td>\n",
       "      <td>1.0</td>\n",
       "      <td>0</td>\n",
       "      <td>0.0</td>\n",
       "      <td>a</td>\n",
       "      <td>a</td>\n",
       "      <td>6710.0</td>\n",
       "      <td>11.0</td>\n",
       "      <td>2003.0</td>\n",
       "      <td>1.0</td>\n",
       "      <td>14.0</td>\n",
       "      <td>2012.0</td>\n",
       "      <td>Jan,Apr,Jul,Oct</td>\n",
       "      <td>5654.365887</td>\n",
       "      <td>5654.365887</td>\n",
       "    </tr>\n",
       "    <tr>\n",
       "      <th>540770</th>\n",
       "      <td>2014-04-30</td>\n",
       "      <td>745.0</td>\n",
       "      <td>3.0</td>\n",
       "      <td>10644.0</td>\n",
       "      <td>1.0</td>\n",
       "      <td>1.0</td>\n",
       "      <td>0</td>\n",
       "      <td>0.0</td>\n",
       "      <td>a</td>\n",
       "      <td>a</td>\n",
       "      <td>17650.0</td>\n",
       "      <td>11.0</td>\n",
       "      <td>2013.0</td>\n",
       "      <td>1.0</td>\n",
       "      <td>37.0</td>\n",
       "      <td>2009.0</td>\n",
       "      <td>Jan,Apr,Jul,Oct</td>\n",
       "      <td>5654.365887</td>\n",
       "      <td>5654.365887</td>\n",
       "    </tr>\n",
       "    <tr>\n",
       "      <th>540771</th>\n",
       "      <td>2014-04-30</td>\n",
       "      <td>746.0</td>\n",
       "      <td>3.0</td>\n",
       "      <td>8316.0</td>\n",
       "      <td>1.0</td>\n",
       "      <td>1.0</td>\n",
       "      <td>0</td>\n",
       "      <td>0.0</td>\n",
       "      <td>d</td>\n",
       "      <td>c</td>\n",
       "      <td>4330.0</td>\n",
       "      <td>2.0</td>\n",
       "      <td>2011.0</td>\n",
       "      <td>1.0</td>\n",
       "      <td>35.0</td>\n",
       "      <td>2011.0</td>\n",
       "      <td>Mar,Jun,Sept,Dec</td>\n",
       "      <td>5654.365887</td>\n",
       "      <td>5654.365887</td>\n",
       "    </tr>\n",
       "    <tr>\n",
       "      <th>540773</th>\n",
       "      <td>2014-04-30</td>\n",
       "      <td>741.0</td>\n",
       "      <td>3.0</td>\n",
       "      <td>12208.0</td>\n",
       "      <td>1.0</td>\n",
       "      <td>1.0</td>\n",
       "      <td>0</td>\n",
       "      <td>0.0</td>\n",
       "      <td>d</td>\n",
       "      <td>c</td>\n",
       "      <td>11900.0</td>\n",
       "      <td>NaN</td>\n",
       "      <td>NaN</td>\n",
       "      <td>0.0</td>\n",
       "      <td>NaN</td>\n",
       "      <td>NaN</td>\n",
       "      <td>NaN</td>\n",
       "      <td>5654.365887</td>\n",
       "      <td>5654.365887</td>\n",
       "    </tr>\n",
       "  </tbody>\n",
       "</table>\n",
       "<p>62720 rows × 19 columns</p>\n",
       "</div>"
      ],
      "text/plain": [
       "              Date  Store  DayOfWeek    Sales  Open  Promo StateHoliday  \\\n",
       "1114    2013-01-02  371.0        3.0   7374.0   1.0    0.0            0   \n",
       "1115    2013-01-02  367.0        3.0   4052.0   1.0    0.0            0   \n",
       "1117    2013-01-02  369.0        3.0   6063.0   1.0    0.0            0   \n",
       "1118    2013-01-02  370.0        3.0   5462.0   1.0    0.0            0   \n",
       "1119    2013-01-02  372.0        3.0   8014.0   1.0    0.0            0   \n",
       "...            ...    ...        ...      ...   ...    ...          ...   \n",
       "540767  2014-04-30  742.0        3.0  13178.0   1.0    1.0            0   \n",
       "540768  2014-04-30  743.0        3.0   4680.0   1.0    1.0            0   \n",
       "540770  2014-04-30  745.0        3.0  10644.0   1.0    1.0            0   \n",
       "540771  2014-04-30  746.0        3.0   8316.0   1.0    1.0            0   \n",
       "540773  2014-04-30  741.0        3.0  12208.0   1.0    1.0            0   \n",
       "\n",
       "        SchoolHoliday StoreType Assortment  CompetitionDistance  \\\n",
       "1114              1.0         d          c               1970.0   \n",
       "1115              1.0         d          c               2640.0   \n",
       "1117              1.0         d          c               5870.0   \n",
       "1118              1.0         d          a               8250.0   \n",
       "1119              1.0         d          c               4880.0   \n",
       "...               ...       ...        ...                  ...   \n",
       "540767            0.0         d          c               4380.0   \n",
       "540768            0.0         a          a               6710.0   \n",
       "540770            0.0         a          a              17650.0   \n",
       "540771            0.0         d          c               4330.0   \n",
       "540773            0.0         d          c              11900.0   \n",
       "\n",
       "        CompetitionOpenSinceMonth  CompetitionOpenSinceYear  Promo2  \\\n",
       "1114                          7.0                    2009.0     1.0   \n",
       "1115                          9.0                    2012.0     0.0   \n",
       "1117                          4.0                    2014.0     0.0   \n",
       "1118                         10.0                    2000.0     1.0   \n",
       "1119                          8.0                    2010.0     1.0   \n",
       "...                           ...                       ...     ...   \n",
       "540767                        NaN                       NaN     0.0   \n",
       "540768                       11.0                    2003.0     1.0   \n",
       "540770                       11.0                    2013.0     1.0   \n",
       "540771                        2.0                    2011.0     1.0   \n",
       "540773                        NaN                       NaN     0.0   \n",
       "\n",
       "        Promo2SinceWeek  Promo2SinceYear     PromoInterval         mean  \\\n",
       "1114               45.0           2014.0   Feb,May,Aug,Nov  5654.365887   \n",
       "1115                NaN              NaN               NaN  5654.365887   \n",
       "1117                NaN              NaN               NaN  5654.365887   \n",
       "1118               31.0           2009.0   Jan,Apr,Jul,Oct  5654.365887   \n",
       "1119               18.0           2014.0   Jan,Apr,Jul,Oct  5654.365887   \n",
       "...                 ...              ...               ...          ...   \n",
       "540767              NaN              NaN               NaN  5654.365887   \n",
       "540768             14.0           2012.0   Jan,Apr,Jul,Oct  5654.365887   \n",
       "540770             37.0           2009.0   Jan,Apr,Jul,Oct  5654.365887   \n",
       "540771             35.0           2011.0  Mar,Jun,Sept,Dec  5654.365887   \n",
       "540773              NaN              NaN               NaN  5654.365887   \n",
       "\n",
       "         Sales_mean  \n",
       "1114    5654.365887  \n",
       "1115    5654.365887  \n",
       "1117    5654.365887  \n",
       "1118    5654.365887  \n",
       "1119    5654.365887  \n",
       "...             ...  \n",
       "540767  5654.365887  \n",
       "540768  5654.365887  \n",
       "540770  5654.365887  \n",
       "540771  5654.365887  \n",
       "540773  5654.365887  \n",
       "\n",
       "[62720 rows x 19 columns]"
      ]
     },
     "execution_count": 61,
     "metadata": {},
     "output_type": "execute_result"
    }
   ],
   "source": [
    "df_train[df_train.loc[:, 'DayOfWeek'] == 3] "
   ]
  },
  {
   "cell_type": "code",
   "execution_count": null,
   "id": "brutal-macintosh",
   "metadata": {},
   "outputs": [],
   "source": []
  }
 ],
 "metadata": {
  "kernelspec": {
   "display_name": "Python 3",
   "language": "python",
   "name": "python3"
  },
  "language_info": {
   "codemirror_mode": {
    "name": "ipython",
    "version": 3
   },
   "file_extension": ".py",
   "mimetype": "text/x-python",
   "name": "python",
   "nbconvert_exporter": "python",
   "pygments_lexer": "ipython3",
   "version": "3.7.6"
  }
 },
 "nbformat": 4,
 "nbformat_minor": 5
}
