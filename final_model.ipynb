{
 "cells": [
  {
   "cell_type": "code",
   "execution_count": 1,
   "metadata": {},
   "outputs": [],
   "source": [
    "import sys\n",
    "\n",
    "import numpy as np\n",
    "import pandas as pd\n",
    "import seaborn as sns\n",
    "import matplotlib.pyplot as plt\n",
    "%matplotlib inline\n",
    "\n",
    "import xgboost\n",
    "from sklearn.ensemble import RandomForestRegressor\n",
    "from sklearn import linear_model"
   ]
  },
  {
   "cell_type": "code",
   "execution_count": 2,
   "metadata": {},
   "outputs": [],
   "source": [
    "sys.path.insert(0, './modules/')\n",
    "import cleaning as cln\n",
    "import feature_eng as feng"
   ]
  },
  {
   "cell_type": "code",
   "execution_count": 3,
   "metadata": {},
   "outputs": [
    {
     "name": "stderr",
     "output_type": "stream",
     "text": [
      "/Users/sara/opt/anaconda3/lib/python3.7/site-packages/IPython/core/interactiveshell.py:3147: DtypeWarning: Columns (7) have mixed types.Specify dtype option on import or set low_memory=False.\n",
      "  interactivity=interactivity, compiler=compiler, result=result)\n"
     ]
    }
   ],
   "source": [
    "# Reading the input files:\n",
    "\n",
    "full_df_train = pd.read_csv(\"./data/train.csv\")\n",
    "full_df_store = pd.read_csv(\"./data/store.csv\")\n",
    "full_df_holdout = pd.read_csv(\"./data/holdout.csv\")"
   ]
  },
  {
   "cell_type": "code",
   "execution_count": 4,
   "metadata": {},
   "outputs": [],
   "source": [
    "# Merge the 'train' and 'store' data frames, to be used for training:\n",
    "\n",
    "full_df_train_cv = cln.merge(full_df_train, full_df_store)"
   ]
  },
  {
   "cell_type": "code",
   "execution_count": 5,
   "metadata": {},
   "outputs": [],
   "source": [
    "# Merge the 'holdout' and 'store' data frames, to be used for final test:\n",
    "\n",
    "full_df_test = cln.merge(full_df_holdout, full_df_store)"
   ]
  },
  {
   "cell_type": "code",
   "execution_count": 6,
   "metadata": {},
   "outputs": [
    {
     "name": "stdout",
     "output_type": "stream",
     "text": [
      "Total number of rows before cleaning:  531983\n",
      "Total number of rows after cleaning:  425689\n",
      "Total number of rows before cleaning:  315540\n",
      "Total number of rows after cleaning:  314760\n"
     ]
    }
   ],
   "source": [
    "# Cleaning:\n",
    "\n",
    "df_train_cv = cln.drop_column(full_df_train_cv, column='Customers')\n",
    "df_test = cln.drop_column(full_df_test, column='Customers')\n",
    "\n",
    "\n",
    "df_train_cv = cln.clean_targets(df_train_cv, target='Sales')\n",
    "df_test = cln.clean_targets(df_test, target='Sales')\n",
    "    \n",
    "df_train_cv = cln.rough_features_cleaning(df_train_cv, threshold=0.10, drop_columns=True, verbose=False)\n",
    "df_test = cln.rough_features_cleaning(df_test, threshold=0.10, drop_columns=True, verbose=False)\n",
    "\n",
    "df_train_cv = cln.drop_column(df_train_cv, column='Open')\n",
    "df_test = cln.drop_column(df_test, column='Open')"
   ]
  },
  {
   "cell_type": "code",
   "execution_count": 7,
   "metadata": {},
   "outputs": [],
   "source": [
    "# Features engineering\n",
    "\n",
    "df_train_cv = feng.dates_features(df_train_cv)\n",
    "df_test = feng.dates_features(df_test)\n",
    "\n",
    "df_train_cv = feng.one_hot_encoding(df_train_cv, 'StateHoliday')\n",
    "df_test = feng.one_hot_encoding(df_test, 'StateHoliday')\n",
    "\n",
    "df_train_cv, df_test = feng.mean_encoding(df_train_cv, df_test, 'Store')\n",
    "df_train_cv = cln.drop_column(df_train_cv, column='Store')\n",
    "df_test = cln.drop_column(df_test, column='Store')\n",
    "\n",
    "df_train_cv, df_test = feng.mean_encoding(df_train_cv, df_test, 'Assortment')\n",
    "df_train_cv = cln.drop_column(df_train_cv, column='Assortment')\n",
    "df_test = cln.drop_column(df_test, column='Assortment')\n",
    "\n",
    "df_train_cv, df_test = feng.mean_encoding(df_train_cv, df_test, 'StoreType')\n",
    "df_train_cv = cln.drop_column(df_train_cv, column='StoreType')\n",
    "df_test = cln.drop_column(df_test, column='StoreType')\n",
    "\n",
    "df_train_cv, df_test = feng.mean_encoding(df_train_cv, df_test, 'day_of_week')\n",
    "df_train_cv = cln.drop_column(df_train_cv, column='day_of_week')\n",
    "df_test = cln.drop_column(df_test, column='day_of_week')"
   ]
  },
  {
   "cell_type": "code",
   "execution_count": 8,
   "metadata": {},
   "outputs": [],
   "source": [
    "def metric(preds, actuals):\n",
    "    preds = preds.reshape(-1)\n",
    "    actuals = actuals.reshape(-1)\n",
    "    assert preds.shape == actuals.shape\n",
    "    return 100 * np.linalg.norm((actuals - preds) / actuals) / np.sqrt(preds.shape[0])"
   ]
  },
  {
   "cell_type": "code",
   "execution_count": 9,
   "metadata": {},
   "outputs": [],
   "source": [
    "# Features and targets used:\n",
    "\n",
    "X_train = df_train_cv.drop(['Date','Sales'], axis=1)\n",
    "y_train = df_train_cv.loc[:, 'Sales']\n",
    "\n",
    "X_test = df_test.drop(['Date','Sales'], axis=1)\n",
    "y_test = df_test.loc[:, 'Sales']"
   ]
  },
  {
   "cell_type": "code",
   "execution_count": 10,
   "metadata": {},
   "outputs": [
    {
     "name": "stdout",
     "output_type": "stream",
     "text": [
      "[14:58:51] WARNING: src/objective/regression_obj.cu:152: reg:linear is now deprecated in favor of reg:squarederror.\n",
      "Final test RMSPE = 27.65%\n"
     ]
    }
   ],
   "source": [
    "# Load model and predict\n",
    "best_model = xgboost.XGBRegressor()\n",
    "\n",
    "best_model.load_model('./models/xgb_team1.model')\n",
    "\n",
    "preds_test = best_model.predict(X_test)\n",
    "actuals_test = df_test.Sales.to_numpy()\n",
    "\n",
    "print(f'Final test RMSPE = {metric(preds_test, actuals_test):.2f}%')"
   ]
  },
  {
   "cell_type": "code",
   "execution_count": 11,
   "metadata": {},
   "outputs": [],
   "source": []
  },
  {
   "cell_type": "code",
   "execution_count": null,
   "metadata": {},
   "outputs": [],
   "source": []
  }
 ],
 "metadata": {
  "kernelspec": {
   "display_name": "Python 3",
   "language": "python",
   "name": "python3"
  },
  "language_info": {
   "codemirror_mode": {
    "name": "ipython",
    "version": 3
   },
   "file_extension": ".py",
   "mimetype": "text/x-python",
   "name": "python",
   "nbconvert_exporter": "python",
   "pygments_lexer": "ipython3",
   "version": "3.7.6"
  }
 },
 "nbformat": 4,
 "nbformat_minor": 4
}
